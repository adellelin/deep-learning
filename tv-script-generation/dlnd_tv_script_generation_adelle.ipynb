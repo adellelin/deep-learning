{
 "cells": [
  {
   "cell_type": "markdown",
   "metadata": {},
   "source": [
    "# TV Script Generation\n",
    "In this project, you'll generate your own [Simpsons](https://en.wikipedia.org/wiki/The_Simpsons) TV scripts using RNNs.  You'll be using part of the [Simpsons dataset](https://www.kaggle.com/wcukierski/the-simpsons-by-the-data) of scripts from 27 seasons.  The Neural Network you'll build will generate a new TV script for a scene at [Moe's Tavern](https://simpsonswiki.com/wiki/Moe's_Tavern).\n",
    "## Get the Data\n",
    "The data is already provided for you.  You'll be using a subset of the original dataset.  It consists of only the scenes in Moe's Tavern.  This doesn't include other versions of the tavern, like \"Moe's Cavern\", \"Flaming Moe's\", \"Uncle Moe's Family Feed-Bag\", etc.."
   ]
  },
  {
   "cell_type": "code",
   "execution_count": 1,
   "metadata": {},
   "outputs": [
    {
     "name": "stdout",
     "output_type": "stream",
     "text": [
      "305189\n"
     ]
    }
   ],
   "source": [
    "\"\"\"\n",
    "DON'T MODIFY ANYTHING IN THIS CELL\n",
    "\"\"\"\n",
    "import helper\n",
    "\n",
    "data_dir = './data/simpsons/moes_tavern_lines.txt'\n",
    "text = helper.load_data(data_dir)\n",
    "# Ignore notice, since we don't use it for analysing the data\n",
    "text = text[81:]\n",
    "print(len(text))"
   ]
  },
  {
   "cell_type": "markdown",
   "metadata": {},
   "source": [
    "## Explore the Data\n",
    "Play around with `view_sentence_range` to view different parts of the data."
   ]
  },
  {
   "cell_type": "code",
   "execution_count": 2,
   "metadata": {},
   "outputs": [
    {
     "name": "stdout",
     "output_type": "stream",
     "text": [
      "Dataset Stats\n",
      "Roughly the number of unique words: 11492\n",
      "Number of scenes: 262\n",
      "Average number of sentences in each scene: 15.248091603053435\n",
      "Number of lines: 4257\n",
      "Average number of words in each line: 11.50434578341555\n",
      "\n",
      "The sentences 0 to 10:\n",
      "Moe_Szyslak: (INTO PHONE) Moe's Tavern. Where the elite meet to drink.\n",
      "Bart_Simpson: Eh, yeah, hello, is Mike there? Last name, Rotch.\n",
      "Moe_Szyslak: (INTO PHONE) Hold on, I'll check. (TO BARFLIES) Mike Rotch. Mike Rotch. Hey, has anybody seen Mike Rotch, lately?\n",
      "Moe_Szyslak: (INTO PHONE) Listen you little puke. One of these days I'm gonna catch you, and I'm gonna carve my name on your back with an ice pick.\n",
      "Moe_Szyslak: What's the matter Homer? You're not your normal effervescent self.\n",
      "Homer_Simpson: I got my problems, Moe. Give me another one.\n",
      "Moe_Szyslak: Homer, hey, you should not drink to forget your problems.\n",
      "Barney_Gumble: Yeah, you should only drink to enhance your social skills.\n",
      "\n",
      "\n"
     ]
    }
   ],
   "source": [
    "view_sentence_range = (0, 10)\n",
    "\n",
    "\"\"\"\n",
    "DON'T MODIFY ANYTHING IN THIS CELL\n",
    "\"\"\"\n",
    "import numpy as np\n",
    "\n",
    "print('Dataset Stats')\n",
    "print('Roughly the number of unique words: {}'.format(len({word: None for word in text.split()})))\n",
    "scenes = text.split('\\n\\n')\n",
    "print('Number of scenes: {}'.format(len(scenes)))\n",
    "sentence_count_scene = [scene.count('\\n') for scene in scenes]\n",
    "print('Average number of sentences in each scene: {}'.format(np.average(sentence_count_scene)))\n",
    "\n",
    "sentences = [sentence for scene in scenes for sentence in scene.split('\\n')]\n",
    "print('Number of lines: {}'.format(len(sentences)))\n",
    "word_count_sentence = [len(sentence.split()) for sentence in sentences]\n",
    "print('Average number of words in each line: {}'.format(np.average(word_count_sentence)))\n",
    "\n",
    "print()\n",
    "print('The sentences {} to {}:'.format(*view_sentence_range))\n",
    "print('\\n'.join(text.split('\\n')[view_sentence_range[0]:view_sentence_range[1]]))"
   ]
  },
  {
   "cell_type": "markdown",
   "metadata": {},
   "source": [
    "## Implement Preprocessing Functions\n",
    "The first thing to do to any dataset is preprocessing.  Implement the following preprocessing functions below:\n",
    "- Lookup Table\n",
    "- Tokenize Punctuation\n",
    "\n",
    "### Lookup Table\n",
    "To create a word embedding, you first need to transform the words to ids.  In this function, create two dictionaries:\n",
    "- Dictionary to go from the words to an id, we'll call `vocab_to_int`\n",
    "- Dictionary to go from the id to word, we'll call `int_to_vocab`\n",
    "\n",
    "Return these dictionaries in the following tuple `(vocab_to_int, int_to_vocab)`"
   ]
  },
  {
   "cell_type": "code",
   "execution_count": 3,
   "metadata": {},
   "outputs": [
    {
     "name": "stdout",
     "output_type": "stream",
     "text": [
      "['an', 'and', 'another', 'anybody', 'back', 'barney_gumble', 'bart_simpson', 'carve', 'catch', 'check', 'days', 'drink', 'effervescent', 'eh', 'elite', 'enhance', 'forget', 'give', 'gonna', 'got', 'has', 'hello', 'hey', 'hold', 'homer', 'homer_simpson', 'i', \"i'll\", \"i'm\", 'ice', 'is', 'last', 'lately', 'listen', 'little', 'matter', 'me', 'meet', 'mike', 'moe', \"moe's\", 'moe_szyslak', 'my', 'name', 'normal', 'not', 'of', 'on', 'one', 'only', 'pick', 'problems', 'puke', 'rotch', 'seen', 'self', 'should', 'skills', 'social', 'tavern', 'the', 'there', 'these', 'to', 'whats', 'where', 'with', 'yeah', 'you', \"you're\", 'your']\n",
      "Tests Passed\n"
     ]
    }
   ],
   "source": [
    "import numpy as np\n",
    "import problem_unittests as tests\n",
    "\n",
    "def create_lookup_tables(text):\n",
    "    \"\"\"\n",
    "    Create lookup tables for vocabulary\n",
    "    :param text: The text of tv scripts split into words\n",
    "    :return: A tuple of dicts (vocab_to_int, int_to_vocab)\n",
    "    \"\"\"\n",
    "    # TODO: Implement Function\n",
    "    vocab = sorted(set(text))\n",
    "    print(vocab)\n",
    "    vocab_to_int = {c: i for i, c in enumerate(vocab)}\n",
    "    int_to_vocab = dict(enumerate(vocab))\n",
    "    return vocab_to_int, int_to_vocab\n",
    "\n",
    "\n",
    "\"\"\"\n",
    "DON'T MODIFY ANYTHING IN THIS CELL THAT IS BELOW THIS LINE\n",
    "\"\"\"\n",
    "tests.test_create_lookup_tables(create_lookup_tables)"
   ]
  },
  {
   "cell_type": "markdown",
   "metadata": {},
   "source": [
    "### Tokenize Punctuation\n",
    "We'll be splitting the script into a word array using spaces as delimiters.  However, punctuations like periods and exclamation marks make it hard for the neural network to distinguish between the word \"bye\" and \"bye!\".\n",
    "\n",
    "Implement the function `token_lookup` to return a dict that will be used to tokenize symbols like \"!\" into \"||Exclamation_Mark||\".  Create a dictionary for the following symbols where the symbol is the key and value is the token:\n",
    "- Period ( . )\n",
    "- Comma ( , )\n",
    "- Quotation Mark ( \" )\n",
    "- Semicolon ( ; )\n",
    "- Exclamation mark ( ! )\n",
    "- Question mark ( ? )\n",
    "- Left Parentheses ( ( )\n",
    "- Right Parentheses ( ) )\n",
    "- Dash ( -- )\n",
    "- Return ( \\n )\n",
    "\n",
    "This dictionary will be used to token the symbols and add the delimiter (space) around it.  This separates the symbols as it's own word, making it easier for the neural network to predict on the next word. Make sure you don't use a token that could be confused as a word. Instead of using the token \"dash\", try using something like \"||dash||\"."
   ]
  },
  {
   "cell_type": "code",
   "execution_count": 4,
   "metadata": {},
   "outputs": [
    {
     "name": "stdout",
     "output_type": "stream",
     "text": [
      "{'.': '||Period||', ',': '||Comma||', '\"': '||QuotationMark||', ';': '||Semicolon||', '!': '||ExclamationMark||', '?': '||QuestionMark||', '(': '||LeftParentheses||', ')': '||RightParentheses||', '--': '||Dash||', '\\n': '||Return||'}\n",
      "Tests Passed\n"
     ]
    }
   ],
   "source": [
    "def token_lookup():\n",
    "    \"\"\"\n",
    "    Generate a dict to turn punctuation into a token.\n",
    "    :return: Tokenize dictionary where the key is the punctuation and the value is the token\n",
    "    \"\"\"\n",
    "    # TODO: Implement Function\n",
    "    d = {}\n",
    "    names = [\"Period\", \"Comma\", \"QuotationMark\", \"Semicolon\", \"ExclamationMark\",\n",
    "               \"QuestionMark\", \"LeftParentheses\", \"RightParentheses\", \"Dash\", \"Return\"]\n",
    "    symbols = [\".\", \",\", \"\\\"\", \";\", \"!\",\"?\", \"(\", \")\", \"--\", \"\\n\"]\n",
    "    for i in range (len(symbols)):\n",
    "        d[symbols[i]] = \"||%s||\"%names[i]\n",
    "    print (d)\n",
    "    return d\n",
    "\n",
    "\"\"\"\n",
    "DON'T MODIFY ANYTHING IN THIS CELL THAT IS BELOW THIS LINE\n",
    "\"\"\"\n",
    "tests.test_tokenize(token_lookup)"
   ]
  },
  {
   "cell_type": "markdown",
   "metadata": {},
   "source": [
    "## Preprocess all the data and save it\n",
    "Running the code cell below will preprocess all the data and save it to file."
   ]
  },
  {
   "cell_type": "code",
   "execution_count": 5,
   "metadata": {},
   "outputs": [
    {
     "name": "stdout",
     "output_type": "stream",
     "text": [
      "{'.': '||Period||', ',': '||Comma||', '\"': '||QuotationMark||', ';': '||Semicolon||', '!': '||ExclamationMark||', '?': '||QuestionMark||', '(': '||LeftParentheses||', ')': '||RightParentheses||', '--': '||Dash||', '\\n': '||Return||'}\n",
      "['$42', '&', \"'\", \"'bout\", \"'cause\", \"'cept\", \"'ceptin'\", \"'em\", \"'er\", \"'ere\", \"'evening\", \"'im\", \"'kay-zugg'\", \"'morning\", \"'n'\", \"'now\", \"'pu\", \"'roids\", \"'round\", \"'s\", \"'til\", \"'tis\", \"'topes\", \"'your\", '-ry', '/', '/mr', '1-800-555-hugs', '100', '10:15', '14', '1895', '1973', '1979', '2', '21', '250', '2nd_voice_on_transmitter:', '3', '35', '3rd_voice:', '4x4', '50%', '50-60', '530', '6', '7-year-old_brockman:', '70', '7g', '8', '91', ':', '_babcock:', '_burns_heads:', '_eugene_blatz:', '_hooper:', '_julius_hibbert:', '_kissingher:', '_marvin_monroe:', '_montgomery_burns:', '_powers:', '_timothy_lovejoy:', '_zander:', 'a', 'a-a-b-b-a', 'a-b-', 'a-lug', 'aah', 'ab', 'abandon', 'abcs', 'abe', 'abercrombie', 'able', 'aboard', 'abolish', 'about', 'above', 'absentminded', 'absentmindedly', 'absolut', 'absolutely', 'absorbent', 'abusive', 'academy', 'accelerating', 'accent', 'accept', 'acceptance', 'accepting', 'access', 'accident', 'accidents', 'according', 'accounta', 'accurate', 'accusing', 'achebe', 'achem', 'acquaintance', 'acquitted', 'acronyms', 'across', 'act', 'acting', 'action', 'activity', 'actor', 'actors', 'actress', 'actually', 'ad', 'add', 'addiction', 'additional-seating-capacity', 'address', 'adeleine', 'adequate', 'adjourned', 'adjust', 'administration', 'admiration', 'admirer', 'admiring', 'admit', 'admitting', 'adopted', 'adrift', 'ads', 'adult', 'adult_bart:', 'advance', 'advantage', 'adventure', 'advertise', 'advertising', 'advice', 'aer', 'aerosmith', 'aerospace', 'affectations', 'affection', 'affects', 'afford', 'afloat', 'afraid', 'africa', 'african', 'africanized', 'after', 'afterglow', 'afternoon', 'again', 'against', 'age', 'aged', 'aged_moe:', 'agency', 'agent', 'agent_johnson:', 'agent_miller:', 'agents', 'aggie', 'aggravated', 'aggravazes', 'agh', 'aghast', 'aging', 'agnes_skinner:', 'ago', 'agree', 'agreement', 'ah', 'ah-ha', 'ahead', 'ahem', 'ahh', 'ahhh', 'ahhhh', 'aid', 'aiden', 'aidens', 'ails', 'aims', \"ain't\", 'air', 'airport', 'aisle', 'al', 'al_gore:', 'alarm', 'albeit', 'albert', 'alcohol', 'alcoholic', 'alcoholism', 'ale', 'alec_baldwin:', 'alfalfa', 'alfred', 'ali', 'alibi', 'alien', 'alive', 'alky', 'all', 'all-all-all', 'all-american', 'all-star', 'all:', 'allegiance', 'alley', 'allow', 'allowance', 'allowed', 'alls', 'alma', 'almond', 'almost', 'alone', 'along', 'alpha-crow', 'alphabet', 'already', 'alright', 'also', 'alter', 'alternative', 'although', 'alva', 'always', 'am', 'amanda', 'amazed', 'amazing', 'amber', 'amber_dempsey:', 'ambrose', 'ambrosia', 'amends', 'america', \"america's\", 'american', 'americans', 'amiable', 'amid', 'amnesia', 'amount', 'amused', 'an', 'anarchy', 'ancestors', 'ancient', 'and', 'and-and', 'and/or', 'and:', 'andalay', 'anderson', 'andrew', 'andy', 'angel', 'anger', 'angrily', 'angry', 'anguished', 'animals', 'annie', 'anniversary', 'announcer:', 'annoyed', 'annoying', 'annual', 'annus', 'anonymous', 'another', 'answer', 'answered', 'answering', 'answers', 'anthony_kiedis:', 'anti-crime', 'anti-intellectualism', 'anti-lock', 'anxious', 'any', 'anybody', 'anyhoo', 'anyhow', 'anymore', 'anyone', 'anything', 'anyway', 'anywhere', 'apart', 'apartment', 'ape-like', 'apology', 'app', 'appalled', 'appealing', 'appeals', 'appear', 'appearance-altering', 'appendectomy', 'applesauce', 'applicant', 'application', 'apply', 'appointment', 'appreciate', 'appreciated', 'appropriate', 'approval', 'apron', 'apu', 'apu_nahasapeemapetilon:', 'apulina', 'aquafresh', 'arab_man:', 'arabs', 'archaeologist', 'are', \"aren't\", \"aren'tcha\", 'argue', 'arguing', 'arimasen', 'arise', \"aristotle's\", 'aristotle:', 'arm', 'arm-pittish', 'arms', 'army', 'around', 'arrange', 'arrest', 'arrested:', 'arrived', 'arse', 'art', 'artie', 'artie_ziff:', 'artist', 'arts', 'as', 'ashamed', 'ashtray', 'aside', 'ask', 'asked', \"askin'\", 'asking', 'asks', 'asleep', 'ass', 'assassination', 'assent', 'assert', 'asses', 'assistant', 'associate', 'assume', 'assumed', 'astonishment', 'astrid', 'astronaut', 'astronauts', 'at', 'atari', 'ate', 'atlanta', 'attach', 'attached', 'attack', 'attempting', 'attend', 'attention', 'attitude', 'attracted', 'attraction', 'attractive', 'attractive_woman_#1:', 'attractive_woman_#2:', 'au', 'audience', 'audience:', 'augustus', 'aunt', 'authenticity', 'author', 'authorized', 'automobiles', 'available', 'avalanche', 'avec', 'avenue', 'average', 'average-looking', 'aw', 'awake', 'awareness', 'away', 'awe', 'awed', 'awesome', 'awful', 'awfully', 'awkward', 'awkwardly', 'aww', 'awww', 'awwww', 'ayyy', 'aziz', 'b', \"b-52's:\", 'b-day', 'babar', 'babe', 'babies', 'baby', 'bachelor', 'bachelorette', 'bachelorhood', 'back', 'backbone', 'backgammon', 'background', 'backing', 'backward', 'backwards', 'bad', 'bad-mouth', 'badge', 'badges', 'badly', 'badmouth', 'badmouths', 'bag', 'bagged', 'bags', 'bail', 'bake', 'bald', 'ball', \"ball's\", 'ball-sized', 'ballclub', 'balloon', 'ballot', 'balls', 'baloney', 'bam', 'band', 'bank', 'banks', 'banned', 'bannister', 'banquet', 'banquo', 'bar', \"bar's\", 'bar-boy', 'bar:', 'bar_rag:', 'barbara', 'barbed', 'barber', 'barely', 'barf', 'barflies', 'barflies:', 'baritone', 'barkeep', 'barkeeps', 'barn', 'barney', \"barney's\", 'barney-guarding', 'barney-shaped_form:', 'barney-type', 'barney_gumble:', 'bars', 'barstools', 'bart', \"bart'd\", \"bart's\", 'bart_simpson:', 'bartender', \"bartender's\", 'bartenders', 'bartending', 'barter', 'bartholomé:', 'baseball', 'based', 'basement', 'bash', 'bashir', \"bashir's\", 'bastard', 'bathed', 'bathing', 'bathroom', 'bathtub', 'batmobile', \"battin'\", 'bauer', 'be', 'be-stainèd', 'beach', 'beached', 'beady', 'beam', 'beanbag', 'beans', 'bear', 'beard', 'beards', 'bears', 'beast', 'beat', 'beating', 'beatings', 'beats', 'beaumarchais', 'beaumont', 'beautiful', 'beauty', 'became', 'because', 'become', 'bed', 'bedbugs', 'bedridden', 'bedroom', 'bedtime', 'bee', 'beef', 'beefs', 'been', 'beep', 'beeps', 'beer', \"beer's\", 'beer-dorf', 'beer-jerks', 'beer:', 'beers', 'bees', 'before', 'befouled', 'befriend', 'began', \"beggin'\", 'begging', 'begin', 'beginning', 'begins', 'behavior', 'behind', \"bein'\", 'being', 'beings', 'belch', 'belches', 'believe', 'believer', 'beligerent', 'bell', 'belly', 'belly-aching', 'bellyaching', 'belong', 'beloved', 'belt', 'belts', 'bender:', 'beneath', 'benefits', 'benjamin', 'benjamin:', 'besides', 'best', 'bet', 'betcha', 'betrayed', 'bets', \"betsy'll\", 'better', \"bettin'\", 'betty:', 'between', 'beverage', 'beyond', 'bible', 'bid', 'bide', 'bidet', 'big', 'bigger', 'biggest', 'bike', 'bill', 'bill_james:', 'billboard', 'billiard', 'billingsley', 'billion', 'bills', 'billy_the_kid:', 'bindle', 'binoculars', 'bird', 'birth', 'birthday', 'birthplace', 'bit', 'bite', 'bites', 'bits', 'bitter', 'bitterly', 'black', 'blackjack', \"bladder's\", 'blade', 'blame', 'blamed', 'blank', 'blaze', 'bleacher', 'bleak', 'bleeding', 'blend', 'bless', 'blessing', 'blew', 'blimp', 'blind', 'blinded', 'blinds', 'bliss', 'blissful', 'blob', 'blobbo', 'blocked', 'blokes', 'blood', 'blood-thirsty', 'bloodball', 'blooded', 'bloodiest', 'blossoming', 'blow', 'blowfish', \"blowin'\", 'blown', 'blows', 'blubberino', 'blue', 'blues', 'bluff', 'blur', 'blurbs', \"bo's\", 'boat', 'bob', 'bobo', 'body', 'boggs', 'boisterous', 'bold', 'bolting', 'bon', 'bon-bons', 'bonding', 'boned', 'boneheaded', 'bones', 'bonfire', 'bono', 'bono:', 'boo', 'booger', 'book', 'book_club_member:', 'bookie', 'booking', 'books', 'booth', 'booze', 'booze-bags', 'boozebag', 'boozehound', 'boozer', 'boozy', 'boring', 'born', 'borrow', 'boston', 'botanical', 'both', 'bothered', 'bottle', 'bottles', 'bottom', 'bottomless', 'bottoms', 'bought', 'bounced', 'bouquet', 'bourbon', 'bow', 'bowie', 'bowl', 'bowled', 'bowling', 'box', 'boxcar', 'boxcars', 'boxer', 'boxer:', 'boxers', 'boxing', 'boxing_announcer:', 'boy', \"boy's\", 'boyfriend', 'boyhood', 'boys', 'brace', \"brady's\", 'brag', 'bragging', 'brain', 'brain-switching', 'brainheaded', 'brainiac', 'brains', 'brakes', 'branding', 'brandy', 'bras', 'brassiest', 'braun:', 'brave', 'brawled', 'bread', 'break', 'break-up', 'breakdown', 'breakfast', \"breakin'\", 'breaking', 'breaks', 'breath', 'breathalyzer', 'breathless', 'breathtaking', 'bret', 'bret:', 'brewed', 'brick', 'bride', 'bridge', 'bridges', 'brief', 'briefly', 'bright', 'brightening', 'brilliant', 'brine', 'bring', \"bringin'\", 'brings', 'britannia', 'british', 'broad', 'broadway', 'brockelstein', 'brockman', \"brockman's\", 'broke', 'broken', 'broken:', 'bronco', 'broncos', 'brooklyn', 'broom', 'brother', 'brother-in-law', 'brotherhood', 'brothers', 'brought', 'brow', 'brown', 'browns', 'brunch', 'brunswick', 'brusque', 'bubble', 'bubbles', 'bubbles-in-my-nose-y', 'bucket', 'bucks', 'buddha', 'buddies', 'buddy', 'buds', 'buffalo', \"buffalo's\", 'buffet', 'bugging', 'bugs', 'build', 'built', 'bulked', 'bull', 'bulldozing', 'bullet-proof', 'bulletin', 'bully', 'bum:', 'bumblebee_man:', 'bumbling', 'bump', 'bumped', 'bumpy-like', 'bums', 'bunch', 'bunion', 'bupkus', 'burg', 'burger', 'burglary', 'buried', 'burn', \"burnin'\", 'burning', 'burns', 'burnside', 'burp', 'burps', 'bursts', 'burt', 'burt_reynolds:', 'bury', 'bus', 'bush', 'bushes', 'busiest', 'business', 'businessman_#1:', 'businessman_#2:', 'bust', 'busted', 'busy', 'but', 'butt', 'butter', 'butterball', 'buttocks', 'button', 'button-pusher', 'buttons', 'butts', 'buy', 'buyer', \"buyin'\", 'buying', 'buzz', 'buzziness', 'by', 'bye', 'byrne', 'c', \"c'mere\", \"c'mom\", \"c'mon\", 'cab', 'cab_driver:', 'cable', 'cadillac', 'cage', 'caholic', 'cajun', 'cake', 'cakes', 'calculate', 'calendars', \"calf's\", 'california', 'call', 'called', \"callin'\", 'calling', 'calls', 'calm', 'calmly', 'calvin', 'came', 'camera', 'cameras', 'camp', 'campaign', 'can', \"can't\", \"can't-believe-how-bald-he-is\", \"can'tcha\", 'candidate', 'candles', 'candy', 'cannoli', 'cannot', 'canoodling', 'cans', 'canyoner-oooo', 'canyonero', 'cap', 'caper', 'capitalists', 'capitol', 'cappuccino', 'captain', 'captain:', 'capuchin', 'car', \"car's\", 'car:', 'carb', 'card', 'cards', 'care', 'career', 'careful', 'carefully', 'cares', 'carey', 'caricature', 'carl', \"carl's\", 'carl:', 'carl_carlson:', 'carll', 'carlotta:', 'carlson', 'carmichael', 'carney', 'carnival', 'carny:', 'carolina', 'carpet', 'cars', 'cartoons', 'carve', 'case', 'cases', 'cash', \"cashin'\", 'casting', 'castle', 'casual', 'cat', \"cat's\", 'catch', 'catch-phrase', 'catching', 'catholic', 'cats', 'cattle', 'catty', 'caught', 'cauliflower', 'cause', 'caused', 'causes', 'caveman', 'cavern', 'cecil', 'cecil_terwilliger:', 'celebrate', 'celebration', 'celebrities', 'celebrity', 'celeste', 'cell', 'cell-ee', 'cent', 'center', 'cents', 'century', 'cerebral', 'ceremony', 'certain', 'certainly', 'certificate', 'certified', 'cesss', 'chain', 'chained', 'chair', 'chairman', 'challenge', \"challengin'\", 'champ', 'champignons', 'champion', 'championship', 'champs', 'chance', 'change', 'changed', 'changes', \"changin'\", 'changing', 'channel', 'chanting', 'chapel', 'chapstick', 'chapter', 'character', 'characteristic', 'charge', 'charged', 'charges', 'charity', 'charlie', 'charlie:', 'charm', 'charming', 'charter', 'chase', 'chastity', 'chateau', 'chauffeur', 'chauffeur:', 'cheap', 'cheaped', 'cheaper', 'cheapskates', 'cheat', 'cheated', 'check', 'checking', 'checks', 'cheer', 'cheered', 'cheerier', \"cheerin'\", 'cheering', 'cheerleaders:', 'cheers', 'cheery', 'cheese', 'cheesecake', 'cherry', 'cheryl', 'chest', 'chew', \"chewin'\", 'chic', 'chick', 'chicken', 'chicks', 'chief', 'chief_wiggum:', 'child', 'childless', 'children', \"children's\", 'chili', 'chill', 'chilly', 'chin', 'chinese', 'chinese_restaurateur:', 'chinua', 'chip', 'chipped', 'chipper', 'chips', 'chocolate', 'choice', 'choice:', 'choices', 'choices:', 'choke', 'choked', 'choked-up', 'choking', 'choose', \"choosin'\", 'chorus:', 'chosen', 'chow', 'christian', 'christmas', 'christopher', 'chub', 'chubby', 'chuck', 'chuckle', 'chuckles', 'chuckling', 'chug', 'chug-a-lug', 'chug-monkeys', 'chum', 'chumbawamba', 'chunk', 'chunky', 'church', 'churchill', 'churchy', 'cigarette', 'cigarettes', 'cigars', 'circus', 'citizens', 'city', \"city's\", 'civic', 'civil', 'civilization', 'clammy', 'clams', \"clancy's\", 'clandestine', 'clap', 'clapping', 'class', 'classy', 'clean', 'cleaned', 'cleaner', \"cleanin'\", 'cleaning', 'clear', 'clearing', 'clearly', 'clears', 'clench', 'clenched', 'cletus_spuckler:', 'cleveland', 'clientele', 'cliff', 'clincher', 'clinton', 'clipped', 'clips', 'clock', 'clone', 'close', 'closed', 'closer', 'closes', 'closet', 'closing', 'clothes', 'clothespins', 'clothespins:', 'cloudy', 'clown', 'clown-like', 'club', 'clubs', 'co-sign', 'coach:', 'coal', 'coast', 'coaster', \"coaster's\", 'coat', 'cobbling', 'cobra', 'cock', 'cocking', 'cockroach', 'cockroaches', 'cocks', 'cocktail', 'cocoa', 'code', 'coffee', \"coffee'll\", 'coherent', 'coin', 'coincidentally', 'coined', 'coins', 'cola', 'cold', 'collapse', 'collateral', \"collector's\", 'college', 'collette:', 'cologne', 'colonel:', 'color', 'colorado', 'colossal', 'column', 'coma', 'combination', 'combine', 'combines', 'come', 'comeback', 'comedies', 'comedy', 'comes', 'comfortable', 'comforting', 'comic', 'comic_book_guy:', \"comin'\", 'coming', 'commanding', 'comment', 'commission', 'commit', 'committee', 'committing', 'common', 'community', 'compadre', 'company', 'compare', 'compared', 'compels', 'compete', 'competing', 'competitive', 'complaining', 'complaint', 'complete', 'completely', 'completing', 'complicated', 'compliment', 'compliments', 'composer', 'composite', 'compressions', 'compromise:', 'computer', 'computer_voice_2:', 'coms', 'con', 'concentrate', 'concerned', 'conclude', 'conclusions', 'conditioner', 'conditioners', 'conditioning', 'coney', 'conference', 'confession', 'confidence', 'confident', 'confidential', 'confidentially', 'confused', 'congoleum', 'congratulations', 'connection', 'connor', 'connor-politan', 'consciousness', 'consider', 'considering', 'considering:', 'considers', 'consoling', 'conspiracy', 'conspiratorial', 'consulting', \"cont'd:\", 'contact', 'contemplated', 'contemplates', 'contemporary', 'contemptuous', 'contented', 'contest', 'continued', 'continuing', 'continuum', 'contract', 'contractors', 'control', 'convenient', 'conversation', 'conversations', 'conversion', 'convinced', 'cooker', 'cookies', 'cooking', 'cool', 'cooler', 'cop', 'cops', 'copy', 'corkscrew', 'corkscrews', 'corn', 'corner', 'corporate', 'corporation', 'corpses', 'correct', 'correcting', 'correction', 'cosmetics', 'cost', 'costume', \"costume's\", 'cotton', 'couch', 'cough', 'coughs', 'could', \"could've\", \"couldn't\", 'count', 'counter', 'counterfeit', \"countin'\", 'counting', 'country', 'country-fried', 'countryman', 'county', 'couple', 'coupon', 'courage', 'course', 'court', 'courteous', 'courthouse', 'courts', 'cousin', 'cover', 'covering', 'covers', 'cow', 'coward', 'cowardly', 'cowboy', 'cowboys', 'coy', 'coyly', 'cozies', 'cozy', 'crab', 'crack', 'cracked', 'craft', 'cranberry', 'crank', 'crap', 'craphole', 'crapmore', 'crappy', 'crawl', \"crawlin'\", 'crayola', 'crayon', 'crazy', 'cream', 'created', 'creates', 'creature', 'credit', 'creeps', 'creepy', 'creme', 'crestfallen', 'crew', 'cricket', 'cries', 'crime', 'crimes', 'criminal', 'crinkly', 'crippling', 'crisis', 'cronies', 'crony', 'crooks', 'cross-country', 'crossed', 'crotch', 'crow', 'crowbar', 'crowd', 'crowd:', 'crowded', 'crowds', 'crowned', 'cruel', 'cruise', 'cruiser', 'crumble', 'crummy', 'crunch', 'crushed', 'crying', 'crystal', \"cuckold's\", 'cuckoo', 'cuddling', 'cueball', 'cuff', 'culkin', 'cummerbund', 'cup', 'cupid', \"cupid's\", 'curds', 'cure', 'curiosity', 'curious', 'curse', 'cursed', 'cushion', 'cushions', 'customer', 'customers', 'customers-slash-only', 'cut', 'cute', 'cutest', 'cutie', 'cutting', 'cuz', 'cyrano', 'd', \"d'\", \"d'ya\", 'daaaaad', 'dad', \"dad's\", 'daddy', 'dads', 'dae', 'dallas', 'damage', 'dame', 'dames', 'dammit', 'damn', 'damned', 'dan', 'dan_gillick:', 'dana_scully:', 'dance', 'dancing', 'dang', 'dangerous', 'daniel', 'danish', 'dank', 'danny', 'darjeeling', 'dark', 'darkest', 'darkness', 'darn', 'darts', 'dash', 'dashes', 'data', 'date', 'dateline', 'dateline:', 'dating', 'daughter', \"daughter's\", 'david', 'david_byrne:', 'dawning', 'day', 'days', 'dazed', 'de', 'de-scramble', 'dea-d-d-dead', 'deacon', 'dead', 'deadly', 'deal', 'dealer', 'dealie', 'deals', 'dealt', 'dean', 'dear', 'dearest', 'death', 'debonair', 'decadent', 'decency', 'decent', 'decide', 'decide:', 'decided', 'decision', 'declan', 'declan_desmond:', 'declare', 'declared', 'dee-fense', 'deep', 'deeper', 'deeply', 'deer', 'defeated', 'defected', 'defensive', 'defiantly', 'degradation', 'dejected', 'dejected_barfly:', 'delays', 'delete', 'deli', 'deliberate', 'deliberately', 'delicate', 'delicately', 'delicious', 'delighted', 'delightful', 'delightfully', 'delivery', 'delivery_boy:', 'delivery_man:', 'delts', 'demand', 'demo', 'democracy', 'democrats', 'dennis', 'dennis_conroy:', 'dennis_kucinich:', 'denser', 'dentist', 'denver', 'deny', 'department', \"department's\", 'depending', 'depository', 'depressant', 'depressed', \"depressin'\", 'depressing', 'depression', 'der', 'derek', 'derisive', 'deserve', 'design', 'designated', 'designer', 'desire', 'desperate', 'desperately', 'despite', 'dessert', 'destroyed', 'detail', 'detecting', 'detective', 'detective_homer_simpson:', 'determined', 'devastated', 'developed', 'device', 'devils:', 'dexterous', 'diablo', 'dials', 'diamond', 'diaper', 'diapers', 'dice', 'dictating', 'dictator', 'did', 'diddilies', \"didn't\", 'die', 'die-hard', 'died', 'dies', 'diet', 'diets', 'difference', 'different', 'difficult', 'dig', 'digging', 'dignified', 'dignity', 'dilemma', 'dime', 'diminish', 'dimly', \"dimwit's\", 'ding-a-ding-ding-a-ding-ding', 'ding-a-ding-ding-ding-ding-ding-ding', 'dingy', 'dinks', 'dinner', 'dint', 'dipping', 'direction', 'directions', 'director', 'director:', 'dirge-like', 'dirt', 'dirty', 'disappear', 'disappeared', 'disappointed', 'disappointing', 'disappointment', 'disapproving', 'disaster', 'disco', 'disco_stu:', 'discriminate', 'discuss', 'discussing', 'disdainful', 'disgrace', 'disgraceful', 'disgracefully', 'disguise', 'disguised', 'disgusted', 'dishonor', 'dishrag', 'disillusioned', 'dislike', 'dismissive', 'dispenser', 'displeased', 'disposal', \"disrobin'\", 'distance', 'distaste', 'distinct', 'distract', 'distraught', 'distributor', 'disturbance', 'disturbing', 'ditched', 'dive', 'divine', 'diving', 'divorced', 'dizer', 'dizzy', 'dna', 'do', 'doctor', \"doctor's\", 'does', \"doesn't\", 'dog', \"dog's\", 'dogs', \"doin'\", 'doing', 'doll', 'doll-baby', 'dollar', 'dollars', 'dollface', \"dolph's_dad:\", 'domed', 'domestic', 'don', \"don't\", \"don'tcha\", 'donate', 'donated', \"donatin'\", 'donation', 'done', 'done:', 'donor', 'donut', 'donut-shaped', 'donuts', 'doof', 'doom', 'doooown', 'door', 'doors', 'doppler', 'doreen', 'doreen:', 'dory', 'double', 'doubt', 'doug:', 'dough', 'down', 'doy', 'dozen', 'dr', 'dracula', 'drag', 'drains', 'dramatic', 'dramatically', 'drank', 'drapes', 'draw', 'drawer', \"drawin'\", 'drawing', 'drawn', 'dreamed', 'dreamily', 'dreams', 'dreamy', 'dreary', 'drederick', 'dregs', 'dress', 'dressed', 'dressing', \"drexel's\", 'drift', 'drink', 'drinker', \"drinkin'\", 'drinking', 'drinking:', 'drinks', 'drive', 'driveability', 'driver', 'drivers', 'drives', \"drivin'\", 'driving', 'drollery', 'droning', 'drop', 'drop-off', 'dropped', 'dropping', 'drove', 'drown', 'drug', 'drummer', 'drunk', 'drunkening', 'drunkenly', 'drunks', 'dry', 'dryer', 'du', 'ducked', 'dude', 'due', 'duel', \"duelin'\", 'duff', \"duff's\", 'duff_announcer:', 'duffed', 'duffman', 'duffman:', 'duh', 'duke', 'dull', 'dum-dum', 'dumb', 'dumb-asses', 'dumbass', 'dumbbell', 'dumbest', 'dump', 'dumpster', 'dumptruck', 'dungeon', 'dunno', 'during', 'dutch', 'duty', \"dyin'\", 'dying', 'dynamite', 'dyspeptic', 'düff', 'düffenbraus', 'e', 'e-z', 'each', 'eager', 'ear', 'earlier', 'early', 'earpiece', 'earrings', 'ears', 'earth', 'ease', 'easier', 'easily', 'east', 'easter', 'easy', 'easy-going', 'easygoing', 'eat', 'eaten', 'eaters', \"eatin'\", 'eating', 'eats', 'ebullient', 'ech', 'eco-fraud', 'ecru', 'eddie', 'eddie:', 'edelbrock', 'edge', 'edgy', 'edison', 'edna', \"edna's\", 'edna-lover-one-seventy-two', 'edna_krabappel-flanders:', 'edner', 'ees', 'effect', 'effects', 'effervescence', 'effervescent', 'effigy', 'egg', 'eggs', 'eggshell', 'eh', 'ehhh', 'ehhhhhh', 'ehhhhhhhh', 'ehhhhhhhhh', 'eight', 'eight-year-old', 'eightball', 'eighteen', 'eighty-five', 'eighty-one', 'eighty-seven', 'eighty-six', 'eighty-three', 'einstein', 'either', 'el', 'elaborate', 'elder', 'elect', 'election', 'electronic', 'elephants', 'eleven', 'eliminate', 'elite', 'elizabeth', 'elmer', \"elmo's\", 'elocution', 'else', 'elves:', 'email', 'embarrassed', 'embarrassing', 'emergency', 'eminence', 'emotion', 'emotional', 'emphasis', 'employees', 'employment', 'emporium', 'empty', 'enabling', 'encore', 'encores', 'encouraged', 'encouraging', 'end', 'endorse', 'endorsed', 'endorsement', 'ends', 'enemies', 'enemy', 'energy', 'enforced', 'engine', 'england', \"england's\", 'english', 'engraved', 'enhance', 'enjoy', 'enjoyed', \"enjoyin'\", 'enjoys', 'enlightened', 'enough', 'enter', 'entering', 'enterprising', 'entertainer', 'enthused', 'enthusiasm', 'enthusiastically', 'entire', 'entirely', 'entrance', 'enveloped', 'environment', 'envy-tations', 'equal', 'equivalent', 'er', 'erasers', 'error', 'errrrrrr', 'escort', 'especially', 'espn', 'espousing', 'estranged', 'etc', 'eternity', 'eu', 'european', 'eurotrash', 'eva', 'evasive', 'eve', 'even', 'evening', 'event', 'eventually', 'ever', 'evergreen', 'every', 'everybody', 'everyday', 'everyone', \"everyone's\", 'everything', 'everywhere', 'evil', 'evils', 'ew', 'eww', 'exact', 'exactly', 'examines', 'example', 'examples', 'exasperated', 'excavating', 'excellent', 'except', 'exception:', 'exchange', 'exchanged', 'excited', 'excitement', 'exciting', 'exclusive:', 'excuse', 'excuses', 'executive', 'exhale', 'exhaust', 'exhibit', 'exit', 'exited', 'exits', 'expect', 'expecting', 'expense', 'expensive', 'experience', 'experienced', 'experiments', 'expert', 'expired', 'explain', 'explaining', 'explanation', 'exploiter', 'expose', 'express', 'expression', 'exquisite', 'extended', 'extinguishers', 'extra', 'extract', 'extreme', 'extremely', 'exultant', 'eye', 'eye-gouger', 'eyeball', 'eyeballs', 'eyed', 'eyeing', 'eyes', 'eyesore', 'f', 'f-l-a-n-r-d-s', 'fabulous', 'face', 'face-macer', 'facebook', 'faced', 'faceful', 'faces', 'fact', 'factor', 'fad', 'faded', 'fail', 'failed', 'failure', 'faint', 'fainted', 'fair', 'faith', 'faiths', 'fake', 'falcons', 'fall', \"fallin'\", 'falling', 'falsetto', 'familiar', 'family', \"family's\", 'family-owned', 'famous', 'fan', 'fanciest', 'fancy', 'fans', \"fans'll\", 'fantastic', 'fantasy', 'far', 'farewell', 'farthest', 'fast', 'fast-food', 'fast-paced', 'fastest', 'fat', 'fat-free', 'fat_in_the_hat:', 'fat_tony:', 'father', \"father's\", 'fatso', 'fatty', 'faulkner', 'fault', 'fausto', 'favor', 'favorite', 'fayed', 'fbi', 'fbi_agent:', 'fdic', 'fears', 'feast', 'feat', 'federal', 'feed', 'feedbag', 'feel', \"feelin's\", 'feeling', 'feelings', 'feels', 'feet', 'feisty', 'feld', 'fell', 'fella', 'fellas', 'fellow', 'felony', 'felt', 'female_inspector:', 'feminine', 'femininity', 'feminist', 'fence', \"fendin'\", 'ferry', 'festival', 'fever', 'fevered', 'few', 'fica', 'fiction', 'fictional', 'field', 'fierce', 'fifteen', 'fifth', 'fifty', 'fight', 'fighter', \"fightin'\", 'fighting', 'fights', 'figure', 'figured', 'figures', 'fiiiiile', 'file', 'filed', 'fill', 'filled', 'fills', 'film', 'filth', 'filthy', 'finale', 'finally', 'finance', 'find', 'finding', 'fine', \"fine-lookin'\", 'finest', 'finger', 'fingers', 'finish', 'finished', 'finishing', 'fink', 'fire', 'fire_inspector:', 'fireball', 'fired', 'fires', 'fireworks', 'firing', 'firm', 'firmly', 'first', 'fish', \"fishin'\", 'fishing', 'fist', 'fistiana', 'fit', 'five', 'five-fifteen', 'fix', 'fixed', 'fixes', 'fl', 'flack', 'flag', 'flailing', 'flaking', 'flame', 'flames', 'flaming', 'flanders', 'flanders:', 'flash', 'flash-fry', 'flashbacks', 'flashing', 'flat', 'flatly', 'flayvin', 'flea:', 'fleabag', 'fledgling', 'fletcherism', 'flew', 'flexible', 'flips', 'floated', \"floatin'\", 'floating', 'floor', 'flophouse', 'flourish', 'flower', 'flowers', 'flown', 'fluoroscope', 'flush', 'flush-town', 'flustered', 'fly', 'flying', 'flynt', 'foam', 'focus', 'focused', 'foibles', 'foil', 'fold', 'folk', 'folks', 'follow', 'followed', 'following', 'fonda', 'fondest', 'fondly', 'fontaine', 'fonzie', 'food', 'foodie', 'fool', \"foolin'\", 'fools', 'foot', 'football', \"football's\", 'football_announcer:', 'for', 'forbidden', 'forbids', 'force', 'forced', 'ford', 'forecast', 'forehead', 'forever', 'forget', 'forget-me-drinks', 'forget-me-shot', 'forgets', 'forgive', 'forgiven', 'forgot', 'forgotten', 'fork', 'form', 'formico', 'formico:', 'fortensky', 'fortress', 'fortune', 'forty', 'forty-five', 'forty-nine', 'forty-seven', 'forty-two', 'forward', 'found', 'foundation', 'founded', 'fountain', 'four', 'four-drink', 'four-star', 'fourteen:', 'fourth', 'fox', 'fox_mulder:', 'fragile', 'france', 'frankenstein', 'frankie', 'frankly', 'frat', 'fraud', 'frazier', 'freak', 'freaking', 'freaky', 'free', 'freed', 'freedom', 'freely', 'freeze', 'french', 'frenchman', 'frescas', 'fresco', 'fresh', 'freshened', 'friction', 'friday', 'fridge', 'friend', \"friend's\", 'friend:', 'friendly', 'friends', 'friendship', 'frightened', 'fringe', 'frink', 'frink-y', 'fritz', 'fritz:', 'frog', 'frogs', 'from', 'front', 'frontrunner', 'frosty', 'frozen', 'fruit', 'frustrated', 'fry', \"fryer's\", 'fudd', 'fuhgetaboutit', 'full', 'full-blooded', 'full-bodied', 'full-time', 'fulla', 'fumes', 'fumigated', 'fun', \"fun's\", 'fund', 'funds', 'funeral', 'funniest', 'funny', 'furious', 'furiously', 'furniture', 'furry', 'further', 'fury', 'fuss', 'fustigate', 'fustigation', 'future', 'fuzzlepitch', 'fwooof', \"g'ahead\", \"g'night\", \"g'on\", 'ga', 'gabriel', 'gabriel:', 'gag', 'gags', 'gal', 'gallon', 'gals', 'gamble', 'gambler', 'game', \"game's\", 'games', \"games'd\", 'gang', 'gangrene', 'garbage', 'gardens', 'gargoyle', 'gargoyles', 'gary:', 'gary_chalmers:', 'gas', 'gasoline', 'gasp', 'gasps', 'gator', 'gator:', 'gave', 'gay', 'gayer', 'gear-head', 'gee', 'gees', 'geez', 'gel', 'general', 'generally', 'generosity', 'generous', 'generously', 'genius', 'gentle', \"gentleman's\", 'gentleman:', 'gentlemen', 'gentles', 'gently', 'genuinely', 'george', 'german', 'germans', 'germany', 'germs', 'gestated', 'gesture', 'get', 'getaway', 'getcha', 'gets', \"gettin'\", 'getting', \"getting'\", 'getup', 'geyser', 'geysir', 'gheet', 'ghouls', 'giant', 'gibson', 'gift', 'gift:', 'gifts', 'gig', 'giggle', 'giggles', 'gil_gunderson:', 'gimme', 'gimmick', 'gimmicks', 'gin', 'gin-slingers', 'ginger', 'girl', 'girl-bart', 'girlfriend', 'girls', 'give', 'given', 'gives', 'giving', 'glad', 'glamour', 'glass', 'glasses', 'glee', 'glen', 'glen:', 'glitterati', 'glitz', 'gloop', 'glorious', 'glove', 'glowers', 'glum', 'glummy', 'gluten', 'glyco-load', 'go', 'go-near-', 'goal', 'goblins', 'god', 'goes', \"goin'\", 'going', 'gol-dangit', 'gold', 'goldarnit', 'golden', 'golf', 'gone', 'gonna', 'goo', 'good', 'good-looking', 'goodbye', 'goodnight', 'goods', 'goodwill', 'gordon', 'gore', 'gorgeous', 'gosh', 'gossipy', 'got', 'gotcha', 'gotta', 'gotten', 'government', 'gr-aargh', 'grab', 'grabbing', 'grabs', 'grace', 'grade', 'grain', 'grains', 'grammar', 'grammy', 'grammys', 'grampa', 'grampa_simpson:', 'grand', 'grandiose', 'grandkids', 'grandmother', \"grandmother's\", 'grandé', 'granted', 'grants', 'grateful', 'grave', 'graves', 'graveyard', 'grease', 'great', 'greatest', 'greatly', 'greedy', 'greetings', 'gregor', 'grenky', 'grey', 'greystash', 'grienke', 'grieving', 'griffith', 'grim', 'grimly', 'grin', 'grinch', 'grind', 'groan', 'groans', 'grocery', 'groin', 'grope', 'ground', 'group', 'groveling', 'grow', 'growing', 'grrrreetings', 'grub', 'grubby', 'grudgingly', 'gruesome', 'gruff', 'grumbling', 'grumpy', 'grunt', 'grunts', 'guard', 'guess', 'guessing', 'guest', 'guff', 'guide', 'guilt', 'guiltily', 'guinea', 'gulliver_dark:', 'gulps', 'gum', 'gumbel', 'gumbo', 'gums', 'gun', 'gunk', 'guns', 'gunter', 'gunter:', 'gus', 'gut', 'gutenberg', 'guts', 'guttural', 'guy', \"guy's\", 'guys', 'guzzles', 'h', 'ha', 'ha-ha', 'habit', 'habitrail', 'had', \"hadn't\", 'hafta', 'hah', 'haikus', 'hail', 'hair', 'haircuts', 'hairs', 'haiti', 'half', 'half-back', 'half-beer', 'half-day', 'halfway', 'hall', 'halloween', 'halvsies', 'hammer', 'hammock', 'hammy', 'hampstead-on-cecil-cecil', 'hand', 'handed', 'handing', 'handle', 'handler', 'handling', 'handoff', 'hands', 'handshake', 'handsome', 'handwriting', \"handwriting's\", 'hang', \"hangin'\", 'hanging', 'hangout', 'hangover', 'hangs', 'hanh', 'hank_williams_jr', 'hans:', 'haplessly', 'happen', 'happened', 'happens', 'happier', 'happily', 'happily:', 'happiness', 'happy', 'har', 'hard', 'harder', 'hardhat', 'hardwood', 'hardy', 'hare-brained', 'harm', 'harmony', 'harrowing', 'harv', 'harv:', 'harvard', 'harvesting', 'harvey', 'has', \"hasn't\", 'hat', 'hate', 'hate-hugs', 'hated', 'hateful', 'hates', 'hats', 'have', \"haven't\", \"havin'\", 'having', 'haw', 'hawaii', \"hawkin'\", 'hawking:', 'haws', 'he', \"he'd\", \"he'll\", \"he's\", 'head', 'head-gunk', 'headhunters', 'heading', 'heads', 'heals', 'health', 'health_inspector:', 'healthier', 'hear', 'heard', 'hearing', 'hears', 'hearse', 'heart', 'heart-broken', 'heartily', 'heartless', 'hearts', \"heat's\", 'heather', 'heatherton', 'heave-ho', 'heaven', 'heavens', 'heaving', 'heavyset', 'heavyweight', 'heck', 'heh', 'heh-heh', 'held', 'helen', 'helicopter', 'heliotrope', 'hell', \"hell's\", 'hellhole', 'helllp', 'hello', 'help', 'helped', 'helpful', 'helping', 'helpless', 'helps', 'hemoglobin', 'hemorrhage-amundo', 'hems', 'henry', 'her', 'here', \"here's\", 'here-here-here', 'hero', 'hero-phobia', 'heroism', 'hers', 'herself', 'hexa-', 'hey', 'hi', 'hibachi', 'hibbert', 'hidden', 'hide', 'hideous', 'hiding', 'high', 'high-definition', \"high-falutin'\", 'highball', 'higher', 'highest', 'highway', 'hike', 'hilarious', 'hillary', 'hillbillies', 'hilton', 'him', 'himself', 'hippies', 'hired', 'hiring', 'his', 'hispanic_crowd:', 'history', 'hit', 'hitchhike', 'hitler', 'hits', 'hiya', 'hm', 'hmf', 'hmm', 'hmmm', 'hmmmm', 'ho', 'ho-la', 'ho-ly', 'hoagie', 'hoax', 'hobo', \"hobo's\", 'hockey-fight', 'hold', 'holding', 'holds', 'hole', \"hole'\", 'holiday', 'holidays', 'hollowed-out', 'hollye', 'hollywood', 'holy', 'home', 'homeland', 'homeless', 'homer', \"homer'll\", \"homer's\", \"homer's_brain:\", 'homer_', 'homer_doubles:', 'homer_simpson:', 'homers', 'homesick', 'homie', 'homunculus', 'honest', 'honey', 'honeys', 'honor', 'honored', 'hoo', 'hooch', 'hook', 'hooked', 'hooky', 'hooray', 'hooters', 'hootie', 'hop', 'hope', 'hoped', 'hopeful', 'hoping', 'hops', 'horns', 'horribilis', 'horrible', 'horrified', 'horror', 'horrors', 'horses', 'hose', 'hospital', 'host', 'hostages', 'hostile', 'hosting', 'hot', 'hot-rod', 'hotel', 'hotenhoffer', 'hotline', 'hottest', 'hounds', 'hour', 'hourly', 'hours', 'house', 'housewife', 'housework', 'housing', 'how', \"how'd\", \"how're\", \"how's\", 'however', 'howya', 'hub', 'hubub', 'huddle', 'hug', 'huge', 'huggenkiss', 'hugh', 'hugh:', 'huh', 'huhza', 'human', 'humanity', 'humiliation', 'hundred', 'hundreds', 'hunger', 'hungry', 'hunka', 'hunky', 'hunter', 'hunting', 'hurry', 'hurt', 'hurting', 'hurts', 'husband', 'hushed', 'hustle', 'hyahh', 'hydrant', 'hygienically', 'hyper-credits', 'i', \"i'd\", \"i'd'a\", \"i'll\", \"i'm\", \"i'm-so-stupid\", \"i'unno\", \"i've\", 'i-i', \"i-i'll\", \"i-i'm\", 'i-i-i', 'i/you', 'ice', 'icelandic', 'icy', 'iddilies', 'idea', \"idea's\", 'ideal', 'idealistic', 'ideas', 'idioms', 'idiot', 'idiots', 'if', 'ignorance', 'ignorant', 'ignoring', 'ihop', 'illegal', 'illegally', 'illustrates', 'image', 'imaginary', 'imagine', 'imitating', 'immiggants', 'impatient', 'impeach', 'impending', 'important', 'imported-sounding', 'impress', 'impressed', 'improv', 'improved', 'in', 'in-ground', 'in-in-in', 'inanely', 'incapable', 'incarcerated', 'inches', 'inclination', 'including', 'incognito', 'increased', 'increasingly', 'incredible', 'incredulous', 'incriminating', 'indecipherable', 'indeed', 'indeedy', 'index', 'indicates', 'indifference', 'indifferent', 'indigenous', 'indignant', 'industry', \"industry's\", 'ineffective', 'inexorable', 'infatuation', 'infestation', 'infiltrate', 'inflated', 'influence', 'infor', 'informant', 'information', 'ing', 'ingested', 'ingrates', 'ingredient', 'inherent', 'initially', 'injury', 'inning', 'innocence', 'innocent', 'innocuous', 'inquiries', 'insecure', 'insensitive', 'inserted', 'inserts', 'inside', 'insightful', 'insist', 'inspection', 'inspector', 'inspire', 'inspired', 'inspiring', 'installed', 'instantly', 'instead', 'instrument', 'insulin', 'insulted', 'insults', 'insurance', 'insured', 'intakes', 'intelligent', 'intense', 'intention', 'interested', 'interesting', 'international', 'internet', 'interrupting', 'intervention', 'intimacy', 'into', 'intoxicants', 'intoxicated', 'intrigued', 'intriguing', 'introduce', 'intruding', 'invented', 'investigating', 'investment', 'investor', 'invisible', 'invite', 'invited', 'involved', 'involving', 'invulnerable', 'iran', 'iranian', 'ireland', 'irish', 'irishman', 'ironed', 'ironic', 'irrelevant', 'irs', 'is', 'is:', 'island', 'isle', \"isn't\", 'isotopes', 'issues', 'issuing', 'it', \"it'd\", \"it'll\", \"it's\", 'it:', 'italian', 'itchy', 'item', 'items', 'its', 'itself', 'ivana', 'ivanna', 'ivory', 'ivy-covered', 'j', 'jack', 'jack_larson:', 'jackass', \"jackpot's\", 'jackpot-thief', 'jacks', 'jackson', 'jacksons', 'jacques', 'jacques:', 'jaegermeister', 'jail', 'jailbird', 'jam', 'jamaican', 'james', 'jams', 'jane', 'janette', 'japanese', 'jar', 'jasper_beardly:', 'jay', 'jay:', 'jay_leno:', 'jazz', 'je', 'jebediah', 'jeers', 'jeez', 'jeff', 'jeff_gordon:', 'jelly', 'jer', 'jerk', 'jerk-ass', 'jerking', 'jerks', 'jerky', 'jernt', 'jerry', 'jesus', 'jeter', 'jets', 'jewelry', 'jewish', 'jig', 'jigger', \"jimbo's_dad:\", 'jimmy', 'job', 'jobless', 'jobs', 'jockey', 'joe', 'joey', 'joey_kramer:', 'jogging', 'john', 'johnny', 'johnny_carson:', 'join', 'joined', 'joining', 'joint', 'joke', 'jokes', 'joking', 'jolly', 'journey', 'jovial', 'joy', 'juan', 'jubilant', 'jubilation', 'judge', 'judge_snyder:', 'judges', 'judgments', 'juice', 'juke', 'jukebox', 'jukebox_record:', 'julep', 'julienne', 'jump', 'jumping', 'jumps', 'junebug', 'junior', 'junkyard', 'jury', 'just', 'justice', 'justify', 'jägermeister', 'k', 'k-zug', 'kadlubowski', 'kahlua', 'kako:', 'kang:', 'kansas', 'karaoke', 'karaoke_machine:', 'kay', 'kazoo', \"kearney's_dad:\", 'kearney_zzyzwicz:', 'keep', 'keeping', 'keeps', 'kegs', 'kemi', 'kemi:', 'ken:', 'kennedy', 'kenny', 'kent', 'kent_brockman:', 'kentucky', 'kept', 'kermit', 'key', 'keys', 'kick', 'kick-ass', 'kicked', 'kickoff', 'kicks', 'kid', \"kid's\", \"kiddin'\", 'kidding', 'kidnaps', 'kidney', 'kidneys', 'kids', \"kids'\", 'kill', 'killarney', 'killed', 'killer', 'killing', 'killjoy', 'kills', 'kim_basinger:', 'kind', 'kinda', 'kinderhook', 'kindly', 'kinds', 'king', 'kings', 'kirk', 'kirk_van_houten:', 'kirk_voice_milhouse:', 'kiss', 'kissed', 'kisser', 'kisses', 'kissing', 'kissingher', 'kitchen', 'kl5-4796', 'klingon', 'klown', 'kneeling', 'knees', 'knew', 'knife', 'knit', 'knives', 'knock', 'knock-up', 'knocked', \"knockin'\", 'knocks', 'know', 'knowing', 'knowingly', 'knowledge', 'known', 'knows', 'knuckle-dragging', 'knuckles', 'kodos:', 'koholic', 'koi', 'koji', 'kool', 'korea', 'krabappel', 'kramer', 'krusty', 'krusty_the_clown:', 'kucinich', 'kwik-e-mart', 'kyoto', 'l', 'la', 'label', 'labels', 'labor', 'lachrymose', 'ladder', 'ladies', \"ladies'\", 'lady', \"lady's\", 'lady-free', 'lady_duff:', 'lager', 'laid', 'lainie:', 'lame', 'lance', 'land', 'landfill', 'landlord', 'lanes', 'laney', 'laney_fontaine:', 'language', 'languages', 'lap', 'laramie', 'lard', 'large', 'larry', \"larry's\", 'larry:', 'larson', 'las', 'last', 'late', 'lately', 'later', 'latin', 'latour', 'laugh', 'laughing', 'laughs', 'laughter', 'launch', 'law', 'law-abiding', 'laws', 'lawyer', 'lay', 'layer', 'lazy', 'lead', 'leak', 'leans', 'lear', 'learn', 'learned', 'lease', 'least', 'leathery', 'leave', \"leavin'\", 'leaving', 'lecture', 'led', 'lee', 'left', 'leftover', \"lefty's\", 'leg', 'legal', 'legally', 'legend', 'legoland', 'legs', 'legs:', 'lemme', 'lemonade', 'len-ny', 'lend', 'lenford', 'lenny', \"lenny's\", 'lenny:', 'lenny_leonard:', 'lennyy', 'leno', 'lenses', 'leonard', 'leprechaun', 'less', 'lessee', 'lessons', 'let', \"let's\", 'letter', 'letters', 'level', 'lewis', 'liability', 'liable', 'liar', 'lib', \"liberty's\", 'libido', 'libraries', 'license', 'lie', 'lied', 'life', \"life's\", 'life-extension', 'life-partner', 'life-sized', 'life-threatening', 'life:', 'lifestyle', 'lifetime', 'lift', 'lifters', \"liftin'\", 'lifts', 'light', 'lighten', 'lighter', 'lighting', 'lights', 'like', 'likes', 'lily-pond', 'limber', 'lime', 'limericks', 'limited', 'limits', 'lincoln', 'linda', 'linda_ronstadt:', 'lindsay', 'lindsay_naegle:', 'line', 'ling', 'lingus', \"linin'\", 'links', 'lipo', 'lips', 'liquor', 'lis', 'lisa', \"lisa's\", 'lisa_simpson:', 'lise:', 'liser', 'list', 'listen', 'listened', \"listenin'\", 'listening', 'listens', 'lists', 'literary', 'literature', 'little', 'little_hibbert_girl:', 'little_man:', 'live', 'liven', 'liver', 'lives', \"livin'\", 'living', 'lizard', 'lloyd', 'lloyd:', 'load', 'loaded', 'loafers', 'loan', 'loathe', 'loboto-moth', 'lobster', 'lobster-based', 'lobster-politans', 'local', 'located', 'lock', 'locked', 'locklear', 'lodge', 'lofty', 'log', 'logos', 'lone', 'loneliness', 'lonely', 'long', 'longer', 'longest', 'look', 'lookalike', 'lookalike:', 'lookalikes', 'looked', \"lookin'\", 'looking', 'looks', 'looooooooooooooooooong', 'looser', 'looting', 'lord', 'lorre', 'los', 'lose', 'loser', 'losers', 'losing', 'loss', 'lost', 'lot', 'lots', 'lotsa', 'lotta', 'lottery', 'lou', 'lou:', 'loud', 'louder', 'loudly', 'louie:', 'louisiana', 'louse', 'lousy', 'love', 'love-matic', 'loved', 'lovejoy', 'lovelorn', 'lovely', 'lover', 'lovers', \"lovers'\", 'loves', 'low', 'low-blow', 'low-life', 'lowering', 'lowers', 'lowest', 'loyal', 'lucinda', 'lucius', 'lucius:', 'luck', 'luckiest', 'luckily', 'lucky', 'lugs', 'lump', 'lumpa', 'lungs', 'lurks', 'lurleen', 'lurleen_lumpkin:', 'lush', 'lushmore', 'luv', 'luxury', 'lying', 'm', 'ma', \"ma'am\", \"ma's\", 'mabel', 'mac-who', 'macaulay', 'macbeth', 'macgregor', 'machine', 'macho', 'mad', 'made', 'madison', 'madman', 'madonna', 'mafia', 'magazine', 'maggie', \"maggie's\", 'magic', 'magnanimous', 'mags', 'mahatma', 'maher', 'maiden', 'mail', 'mailbox', 'maintenance', 'maitre', 'majesty', 'majority', 'make', 'make:', 'makes', \"makin'\", 'making', 'malabar', 'male_inspector:', 'male_singers:', 'malfeasance', 'malibu', 'mall', 'malted', 'maman', 'mamma', 'man', \"man'd\", \"man's\", \"man's_voice:\", 'man:', 'man_at_bar:', 'man_with_crazy_beard:', 'man_with_tree_hat:', 'manage', 'managed', 'manager', 'managing', 'manatee', 'manboobs', 'manchego', 'manfred', 'manipulation', 'manjula', 'manjula_nahasapeemapetilon:', 'mansions', 'manuel', 'many', 'march', 'marched', 'margarita', 'marge', \"marge's\", 'marge_simpson:', 'marguerite:', 'mariah', 'marjorie', 'market', 'marmaduke', 'marquee', 'marriage', 'married', 'marry', 'marshmallow', 'martini', 'marvelous', 'marvin', 'mary', 'masks', 'mason', 'massachusetts', 'massage', 'massive', 'match', 'mate', 'mater', 'material', 'mathis', 'matter', 'matter-of-fact', 'maude', 'maxed', 'maximum', 'may', 'maya', 'maya:', 'mayan', 'maybe', 'mayor', 'mayor_joe_quimby:', 'mcbain', 'mccall', 'mccarthy', 'mcclure', 'mckinley', 'mcstagger', \"mcstagger's\", 'me', 'meal', 'meals', 'mean', \"meanin'\", 'meaning', 'meaningful', 'meaningfully', 'meaningless', 'means', 'meant', 'meanwhile', 'measure', 'measurements', 'meatpies', \"mecca's\", 'mechanical', 'media', 'medical', 'medicine', 'medieval', 'meditative', 'mediterranean', 'meet', 'meeting', 'mel', 'mellow', 'melodramatic', 'memories', 'memory', 'men', \"men's\", 'men:', 'menace', 'menacing', 'menlo', 'mention', 'merchants', 'mess', 'message', \"messin'\", 'met', 'metal', 'meteor', 'methinks', 'mexican', 'mexican_duffman:', 'mexicans', 'meyerhof', 'mic', 'mice', 'michael', 'michael_stipe:', 'michelin', 'mickey', 'microbrew', 'micronesian', 'microphone', 'microwave', 'mid-conversation', 'mid-seventies', 'middle', 'midge', 'midge:', 'midnight', 'might', 'mike', 'mike_mills:', 'mild', 'miles', 'milhouse', 'milhouse_van_houten:', 'milhouses', 'military', 'militia', 'milk', 'milks', 'mill', 'million', 'mimes', 'mind', 'mind-numbing', 'mindless', 'mine', 'mines', 'mini-beret', 'mini-dumpsters', 'minimum', 'minister', 'minors', 'mint', 'minus', 'minute', 'minutes', 'miracle', 'mirror', 'mirthless', 'mis-statement', 'misconstrue', 'miserable', 'misfire', 'miss', 'miss_lois_pennycandy:', 'missed', 'missing', 'mission', 'mistake', 'mistakes', 'mister', 'mistresses', 'mither', 'mitts', 'mix', 'mixed', 'mm', 'mm-hmm', 'mmm', 'mmm-hmm', 'mmmm', 'mmmmm', \"mo'\", 'moan', 'moans', 'mob', 'mobile', 'mock', 'mock-up', 'mocking', 'model', 'modern', 'modest', 'modestly', 'moe', \"moe's\", \"moe's_thoughts:\", 'moe-clone', 'moe-clone:', 'moe-heads', 'moe-lennium', 'moe-near-now', 'moe-ron', 'moe_recording:', 'moe_szyslak:', 'moesy', 'mole', 'mom', 'moment', 'moments', 'mommy', 'mona_simpson:', 'monday', 'money', \"money's\", 'monkey', 'monkeyshines', 'monorails', 'monroe', \"monroe's\", 'monster', 'month', 'months', 'montrer', 'moolah-stealing', 'moon', 'moon-bounce', 'moonlight', 'moonnnnnnnn', 'moonshine', 'mop', \"mopin'\", 'more', 'morlocks', 'morning', 'morning-after', 'moron', 'morose', 'mortal', 'mortgage', 'most', 'most:', 'mostly', 'mostrar', 'motel', 'mother', \"mother's\", 'motor', 'motorcycle', 'motto', 'mount', 'mountain', 'mouse', 'moustache', 'mouth', 'mouths', 'move', 'moved', 'movement', 'movie', 'movies', 'moving', 'moxie', 'mozzarella', 'mr', 'mrs', 'mt', \"mtv's\", 'much', 'mudflap', 'muertos', 'muffled', 'mug', 'mugs', 'muhammad', 'mulder', 'mull', 'multi-national', 'multi-purpose', 'multiple', 'mumble', 'mumbling', 'municipal', 'mural', 'murdered', 'murderously', 'murdoch', 'murmur', 'murmurs', \"murphy's\", 'muscle', 'muscles', 'museum', 'mushy', 'music', 'musical', 'musketeers', 'muslim', 'musses', 'must', \"must've\", 'musta', 'mustard', 'muttering', 'my', 'my-y-y-y-y-y', 'myself', 'mystery', 'na', 'nachos', 'naegle', 'nagurski', 'nah', 'nahasapeemapetilon', 'nail', 'nailed', 'naively', 'naked', 'name', 'name:', 'named', 'nameless', 'names', 'nantucket', 'nap', 'napkins', 'nards', \"narratin'\", 'narrator:', 'nasa', 'nascar', 'nash', 'nasty', 'nation', 'natural', 'naturally', 'nature', 'natured', 'nauseous', 'naval', 'navy', 'nbc', 'ne', 'neanderthal', 'near', 'nearly', 'neat', \"neat's-foot\", 'necessary', 'neck', 'necklace', 'nectar', 'ned', 'ned_flanders:', 'need', 'needed', 'needs', 'needy', 'negative', 'neighbor', \"neighbor's\", 'neighboreeno', 'neighborhood', 'neighbors', 'neil_gaiman:', 'nein', 'neither', 'nelson', 'nelson_muntz:', 'nemo', 'neon', 'nerd', 'nerve', 'nervous', 'nervously', 'network', 'nevada', 'never', 'new', 'new_health_inspector:', 'newest', 'newly-published', 'news', 'newsies', 'newsletter', 'newspaper', 'newsweek', 'next', 'nfl_narrator:', 'nibble', 'nice', 'nicer', 'nick', \"nick's\", 'nickel', 'nickels', 'nigel_bakerbutcher:', 'nigeria', 'nigerian', 'night', 'night-crawlers', 'nightmare', 'nightmares', 'nine', 'nineteen', 'ninety-eight', 'ninety-nine', 'ninety-seven', 'ninety-six', 'ninth', 'nitwit', \"nixon's\", 'no', 'nobel', 'noble', 'nobody', 'nods', 'noggin', 'noise', 'noises', 'nominated', 'non-american', 'non-losers', 'nonchalant', 'nonchalantly', 'none', 'nonsense', 'nooo', 'noooooooooo', 'noose', 'noosey', 'nope', 'nor', 'nordiques', 'normal', 'normals', 'north', 'norway', 'nos', 'nose', 'not', 'notably', 'notch', \"nothin'\", \"nothin's\", 'nothing', 'notice', 'notices', 'noticing', 'notorious', 'novel', 'novelty', 'november', 'now', \"now's\", 'nuclear', 'nucular', 'nudge', 'nuked', 'number', \"number's\", 'numbers', 'numeral', 'nurse', 'nursemaid', 'nuts', 'não', 'o', \"o'\", \"o'clock\", \"o'problem\", \"o'reilly\", 'oak', 'obama', 'obese', 'oblivious', 'oblongata', 'obsessive-compulsive', 'obvious', 'occasion', 'occasional', 'occupancy', 'occupation', 'occupied', 'occurred', 'occurrence', 'occurs', 'ocean', 'octa-', 'odd', 'oddest', 'odor', 'of', 'off', 'offa', 'offended', 'offense', 'offensive', 'offer', 'office', 'officer', 'official', 'officials', 'offshoot', 'often', 'oh', 'oh-ho', 'oh-so-sophisticated', 'ohh', 'ohhhh', 'ohmygod', 'oil', 'oils', 'ointment', 'okay', \"ol'\", 'old', 'old-time', 'old_jewish_man:', 'older', 'olive', 'ollie', 'omigod', 'ominous', 'omit', 'on', 'onassis', 'once', 'one', \"one's\", 'one-hour', 'ones', 'onion', 'onions', 'online', 'only', 'ons', 'onto', 'oof', 'ooh', 'ooo', 'oooh', 'oooo', 'oopsie', 'op', 'open', 'open-casket', 'opening', 'opens', 'operation', 'opportunity', 'optimistic', 'option', 'options', 'or', 'order', 'ordered', 'orders', 'ore', 'organ', 'orgasmville', 'orifice', 'original', 'orphan', 'othello', 'other', \"other's\", 'other_book_club_member:', 'other_player:', \"others'\", 'otherwise', 'ought', 'oughta', 'oughtta', 'our', 'ourselves', 'out', 'outlive', 'outlook', 'outrageous', 'outs', 'outside', 'outstanding', 'outta', 'over', 'over-pronouncing', 'overflowing', 'overhearing', 'overstressed', 'overturned', 'ow', 'owe', 'owes', 'own', 'owned', 'owner', 'owns', 'oww', 'p', 'p-k', 'pack', 'package', 'packets', 'pad', 'padre', 'padres', 'page', 'pageant', 'pages', 'paid', 'pain', 'pained', 'painless', 'paint', 'painted', 'painting', 'paintings', 'paints', 'pair', 'pajamas', 'pal', 'pall', 'palm', 'palmerston', 'pancakes', 'panicked', 'panicky', 'panties', 'pantry', 'pants', 'pantsless', 'papa', 'paparazzo', 'paper', 'para', 'paramedic:', 'parasol', 'pardon', 'parenting', 'parents', 'paris', 'park', 'parked', 'parking', 'parrot', 'part', 'part-time', 'partially', 'partly', 'partner', 'partners', 'party', 'pas', 'pass', 'passed', 'passenger', 'passes', 'passion', 'passports', 'past', 'pasta', 'paste', 'patented', 'pathetic', 'patient', \"patrick's\", 'patriotic', 'patron_#1:', 'patron_#2:', 'patrons', 'patrons:', 'pats', 'patterns', 'patting', 'patty', 'patty_bouvier:', 'pause', 'pawed', 'pay', 'payback', 'payday', \"payin'\", 'paying', 'payments', 'pays', 'peabody', 'peace', 'peach', 'peaked', 'peanut', 'peanuts', 'pee', 'peeping', 'peeved', 'pen', 'penmanship', 'pennies', 'penny', 'people', \"people's\", 'pep', 'pepper', 'peppers', 'peppy', 'pepsi', 'pepto-bismol', 'per', 'percent', 'perch', 'perfect', 'perfected', 'perfume', 'perfunctory', 'perhaps', 'period', 'perking', 'permanent', 'permitting', 'pernt', 'perplexed', 'persia', 'person', 'personal', 'perverse', 'perverted', 'perón', 'peter', 'peter_buck:', 'pets', 'pews', 'pfft', 'pharmaceutical', 'phase', 'phasing', 'philip', 'philosophic', 'philosophical', 'phlegm', 'phone', \"phone's\", 'phony', 'photo', 'photographer', 'photos', 'phrase', 'physical', 'pian-ee', 'piano', 'pick', 'picked', \"pickin'\", 'pickle', 'pickled', 'pickles', 'picky', 'picnic', 'picture', 'pictured', 'piece', 'pig', 'pigs', 'pigtown', 'pile', 'piling', 'pillows', 'pills', 'pilsner-pusher', 'pin', 'pinball', 'pinchpenny', 'pine', 'ping-pong', 'pink', 'pint', 'pip', 'pipe', 'pipes', 'pirate', 'pissed', 'pit', 'pitch', 'pitcher', 'pity', 'pizza', 'pizzicato', 'place', 'placed', 'placing', 'plain', 'plaintive', 'plan', 'plane', 'planet', \"plank's\", 'planned', 'planning', 'plans', 'plant', 'planted', 'plants', \"plaster's\", 'plastered', 'plastic', 'platinum', 'play', 'play/', 'played', 'players', 'playful', 'playhouse', \"playin'\", 'playing', 'playoff', 'pleading', 'pleasant', 'please', 'please/', 'pleased', 'pleasure', 'pledge', 'plenty', 'plotz', 'plow', 'plucked', 'plug', 'plum', 'plums', 'plus', 'plywood', 'pocket', 'pockets', 'poem', 'poet', 'poetics', 'poetry', 'poin-dexterous', 'point', 'pointed', 'pointedly', 'pointing', 'pointless', 'points', 'pointy', 'poison', \"poisonin'\", 'poisoning', 'poke', 'poker', 'poking', 'polenta', 'police', 'polish', 'polishing', 'polite', 'politician', 'politicians', 'politics', 'polls', 'polygon', 'pond', 'pontiff', 'pool', 'poor', 'poorer', 'pop', 'pope', \"pope's\", 'poplar', 'popped', 'popping', 'popular', 'population', 'porn', 'portentous', 'portfolium', 'portuguese', 'position', 'positive', 'possessions', 'possibly', 'post-suicide', 'poster', 'potato', 'potatoes', 'poulet', \"poundin'\", 'pour', 'poured', 'pouring', 'power', 'powered', 'powerful', 'powers', 'practically', 'practice', 'praise', 'prank', 'prayer', 'prayers', 'pre-columbian', 'pre-game', 'pre-recorded', 'precious', 'predecessor', 'predictable', 'prefer', 'pregnancy', 'prejudice', 'premiering', 'premise', 'prep', 'preparation', 'prepared', 'present', 'presentable', 'presently', 'presents', 'presided', 'president', \"president's\", 'presidential', 'presidents', 'press', 'presses', 'pressure', \"pressure's\", 'presto:', 'presumir', 'pretend', 'pretending', 'pretends', 'pretentious_rat_lover:', 'prettied', 'prettiest', 'pretty', 'pretzel', 'pretzels', 'price', 'priceless', 'prices', 'pride', 'pridesters:', 'priest', 'prime', 'prince', 'princess', 'princesses', 'principal', 'principles', 'prints', 'priority', 'prison', 'privacy', 'private', 'prize', 'prizefighters', 'pro', 'probably', 'problem', 'problemo', 'problems', 'procedure', 'process', 'produce', 'producers', 'product', 'products', 'professional', 'professor', \"professor's\", 'professor_jonathan_frink:', 'profiling', 'program', 'progress', 'prohibit', 'project', 'prolonged', 'promise', 'promised', 'promotion', 'prompting', 'pronounce', 'pronto', 'proof', 'proper', 'propose', 'proposing', 'proposition', 'protecting', 'protestantism', 'protesters', 'protesting', 'proud', 'proudly', 'prove', 'proves', 'provide', 'psst', 'pub', 'public', 'publish', 'published', 'publishers', 'pudgy', 'puff', 'puffy', 'pugilist', 'puke', 'puke-holes', 'puke-pail', 'pulitzer', 'pull', 'pulled', \"pullin'\", 'pulling', 'pulls', 'pumping', 'punch', 'punches', 'punching', 'punishment', 'punk', 'punkin', 'pure', 'purse', 'pursue', 'purveyor', 'pus-bucket', 'push', 'pushes', 'pushing', 'pusillanimous', 'pussycat', 'put', 'puts', \"puttin'\", 'putting', 'putty', 'puzzle', 'puzzled', 'pyramid', 'quadruple-sec', 'quality', 'quarry', 'quarter', 'quarterback', 'quebec', 'queen', \"queen's\", 'queer', 'quero', 'question', 'quick', 'quick-like', 'quickly', 'quiet', 'quietly', 'quimby', 'quimby_#2:', 'quimbys:', 'quit', 'quitcher', 'quite', 'quotes', 'r', 'rabbits', 'raccoons', 'race', 'racially-diverse', 'radiation', 'radiator', 'radical', 'radio', 'radioactive', 'radishes', 'rafter', 'rafters', 'rag', 'rage', 'raggie', \"raggin'\", \"ragin'\", 'raging', 'ragtime', 'railroad', 'railroads', 'rain', 'rainbows', 'rainforest', 'rainier', 'rainier_wolfcastle:', 'raining', 'raise', 'raises', 'raising', 'raking', 'ralph', 'ralph_wiggum:', 'ralphie', 'ram', 'ran', 'rancid', 'random', 'rap', 'rapidly', 'rascals', 'rash', 'rasputin', \"rasputin's\", 'rat', 'rat-like', 'rather', 'ratio', 'rationalizing', 'rats', 'ratted', 're-al', 're:', 'reach', 'reached', 'reaches', 'reaching', 'reaction', 'reactions', 'read', 'read:', 'reader', \"readin'\", 'reading', 'reading:', 'reads', 'ready', 'real', 'reality', 'realize', 'realized', 'realizing', 'really', 'reason', 'reasonable', 'reasons', 'rebuilt', 'rebuttal', 'recall', 'recap:', 'recent', 'recently', 'recipe', 'reciting', 'reckless', 'recommend', 'reconsidering', 'record', 'recorded', 'recorder', 'recreate', 'recruiter', 'rector', 'red', 'reed', 'reentering', 'ref', 'referee', 'refiero', 'refill', 'refinanced', 'reflected', 'refresh', 'refreshing', 'refreshingness', 'refreshment', 'refund', 'register', 'regret', 'regretful', 'regretted', 'regulars', 'regulations', 'rekindle', 'relationship', 'relative', 'relax', 'relaxed', 'relaxing', 'release', 'releases', 'releasing', 'reliable', 'relieved', 'religion', 'religious', 'reluctant', 'reluctantly', 'rem', 'remain', 'remaining', 'remains', 'remember', 'remembered', 'remembering', 'remembers', 'reminded', 'reminds', 'remodel', 'remorseful', 'remote', 'renders', 'renee', \"renee's\", 'renee:', 'renew', \"renovatin'\", 'renovations', 'rent', 'rented', \"rentin'\", 'reopen', 'repairman', 'repay', 'repeated', 'repeating', 'replace', 'replaced', 'reporter', 'reporter:', 'represent', 'represents', 'repressed', 'reptile', 'researching', 'resenting', 'reserve', 'reserved', 'resigned', 'resist', 'resolution', 'respect', 'rest', 'restaurant', 'restaurants', 'restless', 'restroom', 'result', 'results', 'retain', 'retired', 'return', 'reunion', 'rev', 'revenge', 'reviews', 'reward', 'rewound', 'reynolds', 'rhode', 'rhyme', 'ribbon', 'rice', 'rich', 'richard', 'richard:', 'richer', 'rickles', 'rid', 'ride', 'ridiculous', \"ridin'\", 'riding', 'rife', 'rig', 'righ', 'right', 'right-handed', 'rims', 'ring', 'ringing', 'rings', 'rip', 'rip-off', 'ripcord', 'ripped', 'ripper', 'ripping', 'risqué', 'rivalry', 'riveting', 'roach', 'road', 'rob', 'robbers', \"robbin'\", 'robin', 'robot', 'rock', 'rockers', 'rocks', 'rods', 'roll', 'rolled', 'roller', 'rolling', 'rolls', 'rom', 'romance', 'romantic', 'rome', 'ron', 'ron_howard:', 'ronstadt', 'roof', 'rookie', 'room', 'roomy', 'root', 'rope', 'roses', 'rosey', 'rotch', 'rotten', 'rough', 'round', \"round's\", 'rounds', 'routine', 'row', 'roy', 'royal', 'roz', 'roz:', 'rub', 'rub-a-dub', 'rubbed', 'rubs', 'ruby-studded', 'rude', 'rueful', 'rug', 'rugged', 'ruin', 'ruined', 'ruint', 'rule', 'ruled', 'rules', 'rumaki', 'rummy', 'rumor', 'rump', 'run', 'runaway', 'runners', 'running', 'runs', 'runt', 'rupert_murdoch:', 'rush', \"rustlin'\", 'rusty', 'rutabaga', 'ruuuule', 's', \"s'cuse\", \"s'okay\", \"s'pose\", 's-a-u-r-c-e', 'sabermetrics', 'sacajawea', 'sack', 'sacrifice', 'sacrilicious', 'sad', 'sadder', 'sadistic_barfly:', 'sadly', 'safe', 'safecracker', 'safely', 'safer', 'safety', 'saga', 'sagacity', 'sagely', 'saget', 'said', 'said:', 'sail', 'saint', 'salad', 'salary', 'sale', 'sales', 'salt', 'salvador', 'salvation', 'sam:', 'same', 'sampler', 'samples', 'sanctuary', 'sandwich', 'sang', 'sangre', 'sanitary', 'sanitation', 'santa', \"santa's\", 'santeria', 'sap', 'sarcastic', 'sass', 'sassy', 'sat', \"sat's\", 'sat-is-fac-tion', 'satisfaction', 'satisfied', 'saturday', 'sauce', 'saucy', 'sausage', 'savagely', 'save', 'saved', 'saving', 'savings', 'savvy', 'saw', 'say', \"sayin'\", 'saying', 'says', 'scam', \"scammin'\", 'scanning', 'scare', 'scared', 'scarf', 'scary', 'scatter', 'scene', 'scent', 'schabadoo', 'schedule', 'schemes', 'schizophrenia', 'schmoe', 'schnapps', 'school', \"school's\", 'schorr', 'science', 'scientific', 'scientists', 'scoffs', 'scooter', 'score', 'scores', 'scornful', 'scornfully', 'scotch', 'scout', 'scram', 'scrape', 'scratcher', 'scratching', 'scream', 'screams', 'screw', 'screws', 'script', 'scrubbing', 'scruffy_blogger:', 'scrutinizes', 'scrutinizing', 'scully', 'scum', 'scum-sucking', 'sea', 'sealed', 'seamstress', 'searching', 'seas', 'season', 'seat', 'seats', 'sec', 'sec_agent_#1:', 'sec_agent_#2:', 'second', 'seconds', 'secret', \"secret's\", 'secrets', 'sector', 'securities', 'sedaris', 'seductive', 'see', \"seein'\", 'seeing', 'seek', 'seem', 'seemed', 'seems', 'seen', 'sees', 'sees/', 'seething', 'selection', 'selective', 'self', 'self-centered', 'self-esteem', 'self-made', 'self-satisfied', 'selfish', 'sell', 'selling', 'sells', 'selma', 'selma_bouvier:', 'semi-imported', 'seminar', 'sen', 'senator', 'senators', 'senators:', 'send', 'sending', 'sense', 'sensible', 'sensitivity', 'sent', 'sentimonies', 'separator', 'sequel', 'series', 'serious', 'seriously', 'serum', 'serve', 'served', 'service', 'sesame', 'set', 'sets', 'settled', 'settlement', 'settles', 'seven', 'severe', 'sex', 'sexton', 'sexual', 'sexy', 'seymour', 'seymour_skinner:', 'shack', 'shades', 'shag', 'shaggy', 'shaken', 'shaker', 'shakes', 'shakespeare', 'shaking', 'shaky', 'shall', 'shame', \"shan't\", 'shape', 'shard', 'share', 'shareholder', 'shares', 'sharing', 'sharity', 'shark', 'sharps', 'shaved', 'she', \"she'd\", \"she'll\", \"she's\", 'she-pu', 'sheepish', 'sheet', 'sheets', 'shelbyville', 'shelf', 'shells', 'sheriff', 'shesh', 'shhh', 'shifty', 'shill', 'shindig', 'shipment', 'shirt', 'shock', 'shocked', 'shoe', 'shoes', 'shoo', 'shoot', \"shootin'\", 'shooting', 'shoots', 'shop', 'shopping', 'shores', 'short', 'short_man:', 'shortcomings', 'shorter', 'shot', 'shotgun', 'should', \"should've\", 'shoulda', 'shoulder', 'shoulders', \"shouldn't\", 'shout', 'shove', 'show', \"show's\", 'show-off', 'showed', 'shower', 'showered', \"showin'\", 'showing', 'shows', 'shred', 'shreda', 'shrieks', 'shriners', 'shrugging', 'shrugs', 'shtick', 'shush', 'shut', 'shuts', 'shutting', 'shutup', 'shyly', 'si-lent', 'sick', 'sickened', 'sickens', 'sickly', 'side', 'side:', 'sidekick', 'sidelines', 'sideshow', 'sideshow_bob:', 'sideshow_mel:', 'sieben-gruben', 'sigh', 'sighs', 'sight', 'sight-unseen', 'sign', 'signal', 'signed', 'silence', 'silent', 'simon', 'simp-sonnnn', 'simple', 'simplest', 'simpson', 'simpsons', 'simultaneous', 'since', 'sincere', 'sincerely', 'sing', 'sing-song', 'singer', 'singers:', \"singin'\", 'singing', 'singing/pushing', 'single', 'single-mindedness', 'sings', 'sinister', 'sink', 'sinkhole', \"sippin'\", 'sips', 'sir', 'sissy', 'sister', 'sister-in-law', 'sisters', 'sistine', 'sit', 'sitar', 'sitcom', 'site', 'sits', \"sittin'\", 'sitting', 'situation', 'six', 'six-barrel', 'sixteen', 'sixty', 'sixty-five', 'sixty-nine', 'size', 'sizes', 'skeptical', 'sketch', 'sketching', 'skills', 'skin', 'skinheads', 'skinner', 'skinny', 'skins', 'skirt', 'skoal', 'skunk', 'sky', 'skydiving', 'slab', 'slap', 'slapped', 'slaps', 'slaves', 'slays', 'sledge-hammer', 'sleep', 'sleeping', 'sleeps', 'sleigh-horses', 'slender', 'slice', 'slick', 'slight', 'slightly', 'slim', 'slip', 'slipped', 'slit', 'slobbo', 'slobs', 'sloe', 'slogan', 'slop', 'sloppy', 'slot', 'slow', 'slugger', 'slurps', 'slurred', 'sly', 'slyly', \"smackin'\", 'small', 'small_boy:', 'smallest', 'smart', 'smell', 'smelling', 'smells', 'smelly', 'smile', 'smile:', 'smiled', 'smiles', 'smiling', 'smithers', 'smitty:', 'smoke', 'smoker', 'smokes', \"smokin'\", \"smokin'_joe_frazier:\", 'smooth', 'smoothly', 'smug', 'smuggled', 'smugglers', 'smurfs', 'snackie', 'snail', 'snake', 'snake-handler', 'snake_jailbird:', 'snap', \"snappin'\", 'snapping', 'snaps', 'snatch', 'sneak', 'sneaky', 'sneering', 'sneeze', 'snide', 'sniffing', 'sniffles', 'sniffs', 'sniper', 'snitch', 'snort', 'snorts', 'snotball', 'snotty', 'snout', 'snow', 'so', 'so-called', 'so-ng', 'soaked', \"soakin's\", 'soaking', 'soap', 'soaps', 'sob', 'sobbing', 'sober', 'sobo', 'sobriety', 'sobs', 'social', 'socialize', 'society', 'society_matron:', 'socratic', 'sodas', 'soft', 'softer', 'soir', 'sold', 'solely', 'solid', 'solo', 'solved', 'solves', 'some', 'somebody', \"somebody's\", 'someday', 'somehow', 'someone', \"someone's\", 'someplace', \"somethin'\", \"somethin':\", \"somethin's\", 'something', \"something's\", 'something:', 'sometime', 'sometimes', 'somewhere', 'son', \"son's\", 'son-of-a', 'song', 'soon', 'sooner', 'sooo', 'soot', 'soothing', 'sorry', 'sorts', 'sotto', 'soul', 'soul-crushing', 'sound', 'sounded', \"soundin'\", 'sounds', 'soup', 'souped', 'sour', 'source', 'south', 'southern', 'souvenir', 'space', 'space-time', 'spacey', \"spaghetti-o's\", 'spamming', 'spanish', 'spare', 'speak', \"speakin'\", 'speaking', 'special', 'specialists', 'specializes', 'specials', 'species', 'specific', 'specified', 'spectacular', 'speech', 'speed', 'spellbinding', 'spelling', 'spend', 'spender', 'spending', 'spent', 'sperm', 'spews', 'spied', \"spiffin'\", 'spilled', 'spine', 'spinning', 'spirit', 'spiritual', 'spit', 'spit-backs', 'spite', 'spits', 'spitting', 'splash', 'splattered', 'splendid', 'spoken', 'sponge', 'sponge:', 'sponsor', 'sponsoring', 'spooky', 'spoon', 'sport', 'sports', 'sports_announcer:', 'spot', 'spotting', 'spouses', 'sprawl', 'spread', 'spreads', 'springfield', \"springfield's\", 'spy', \"spyin'\", 'squabbled', 'squad', 'squadron', 'square', 'squashing', 'squeal', 'squeals', 'squeeze', 'squeezed', \"squeezin'\", 'squirrel', 'squirrels', 'squishee', 'st', 'stab', \"stabbin'\", 'stacey', 'stadium', 'stage', 'stagehand:', 'stagey', 'stagy', 'stained-glass', 'stairs', 'stalin', 'stalking', \"stallin'\", 'stalwart', 'stamp', 'stamps', 'stan', 'stand', 'standards', 'standing', 'stands', 'star', 'stares', 'starla', \"starla's\", 'starla:', 'starlets', 'stars', 'start', 'started', 'starters', \"startin'\", 'starting', 'startled', 'starts', 'startup', 'starve', 'starving', 'state', 'states', 'statesmanlike', 'station', 'stationery', 'statistician', 'stats', 'statue', 'statues', 'stay', 'stay-puft', 'stayed', \"stayin'\", 'staying', 'stays', 'steak', 'steal', \"stealin'\", 'stealings', 'steam', 'steamed', 'steaming', 'steampunk', 'steel', 'steely-eyed', 'stein-stengel-', 'steinbrenner', 'stengel', 'step', 'stepped', 'stern', 'sternly', 'stevie', 'stewart', 'stick', 'sticker', 'stickers', 'sticking', 'sticking-place', 'stiffening', 'still', 'stillwater:', 'stinger', 'stingy', 'stink', \"stinkin'\", 'stinks', 'stinky', 'stir', 'stirrers', 'stirring', 'stock', 'stocking', 'stole', 'stolen', 'stomach', 'stones', 'stonewall', 'stood', 'stooges', 'stool', 'stools', 'stop', 'stopped', 'stops', 'store', 'store-bought', 'stored', 'stores', 'stories', 'storms', 'story', 'straight', 'straighten', 'strain', 'straining', 'strains', 'stranger:', 'strangles', 'strap', 'strategizing', 'strategy', 'strawberry', 'street', 'streetcorner', 'streetlights', 'stretch', 'stretches', 'strictly', 'string', 'stripe', 'stripes', 'strips', 'strokkur', 'strolled', 'strong', 'strongly', 'struggling', 'stu', 'stuck', 'student', 'studied', 'studio', 'stuff', 'stumble', 'stunned', 'stupid', 'stupidest', 'stupidly', 'sturdy', 'suave', 'sub-monkeys', 'subject', 'subscriptions', 'suburban', 'successful', 'such', 'suck', 'sucked', 'sucker', 'sucking', 'sucks', 'sudden', 'suddenly', 'sudoku', 'suds', 'sue', 'sued', 'suffering', 'sugar', 'sugar-free', 'sugar-me-do', 'suicide', 'suing', 'suit', 'suits', 'sumatran', 'summer', \"summer's\", 'sun', 'sunday', 'sunglasses', 'sunk', 'sunny', 'super', 'super-genius', 'super-nice', 'super-tough', 'superdad', 'superhero', 'superior', 'supermarket', 'supermodel', 'superpower', 'supervising', 'supply', 'supplying', 'support', 'supports', 'suppose', 'supposed', 'supreme', 'sure', 'surgeonnn', 'surgery', 'surprise', 'surprised', 'surprised/thrilled', 'surprising', 'suru', 'survive', 'susie-q', 'suspect', 'suspended', 'suspenders', 'suspicious', 'suspiciously', 'sustain', 'swallowed', 'swamp', 'swan', 'swatch', 'swe-ee-ee-ee-eet', 'swear', 'sweat', 'sweater', 'sweaty', 'sweden', 'sweet', 'sweeter', 'sweetest', 'sweetheart', 'sweetie', 'sweetly', 'swell', 'swelling', 'swig', 'swigmore', 'swill', 'swimmers', 'swimming', 'swine', 'swings', \"swishifyin'\", 'swishkabobs', 'switch', 'switched', 'swooning', 'sympathetic', 'sympathizer', 'sympathy', 'symphonies', 'syndicate', 'synthesize', 'syrup', 'system', 'szyslak', 't-shirt', 'tab', \"tab's\", 'table', \"table's\", 'tablecloth', 'tabooger', 'tabs', 'tactful', 'tail', 'take', 'take-back', 'takeaway', 'taken', 'takes', \"takin'\", 'taking', 'tale', 'talk', 'talk-sings', 'talkative', 'talked', 'talkers', \"talkin'\", 'talking', 'tall', 'tang', 'tank', 'tanked-up', 'tanking', 'tap', \"tap-pullin'\", 'tape', 'tapered', 'tapestry', 'tapping', 'taps', 'tar-paper', 'tasimeter', 'taste', 'tastes', 'tasty', 'tatum', \"tatum'll\", 'taught', 'taunting', 'tavern', 'tax', 'taxes', 'taxi', 'taylor', 'teach', 'teacher', 'teacup', 'team', \"team's\", 'teams', 'tear', 'tearfully', 'tears', 'tease', 'technical', 'teddy', 'tee', 'teen', 'teenage', 'teenage_barney:', 'teenage_bart:', 'teenage_homer:', 'teeth', 'telegraph', 'telemarketing', 'telephone', 'television', 'tell', \"tellin'\", 'telling', 'tells', 'temp', 'temper', 'temple', 'temples', 'temporarily', 'tempting', 'ten', 'tender', 'tenor:', 'tense', 'tentative', 'tenuous', 'teriyaki', 'term', 'terminated', 'terrace', 'terrible', 'terrific', 'terrified', 'terrifying', 'territorial', 'terror', 'terrorizing', 'test', 'test-', 'test-lady', 'tester', \"tester's\", 'testing', 'texan', 'texas', 'text', 'th', 'th-th-th-the', 'tha', 'than', 'thank', 'thankful', 'thanking', 'thanks', 'thanksgiving', 'that', \"that'd\", \"that'll\", \"that's\", 'thawing', 'the', 'the_edge:', 'the_rich_texan:', 'theatah', 'theater', 'theatrical', 'their', 'them', 'theme', 'themselves', 'then', 'then:', 'theory', 'therapist', 'therapy', 'there', \"there's\", 'therefore', 'thesaurus', 'these', 'they', \"they'd\", \"they'll\", \"they're\", \"they've\", 'thighs', 'thing', \"thing's\", 'thing:', 'things', 'think', \"thinkin'\", 'thinking', 'thinks', 'third', 'thirsty', 'thirteen', 'thirty', 'thirty-five', 'thirty-nine', 'thirty-thousand', 'thirty-three', 'this', \"this'll\", 'this:', 'thnord', 'thomas', 'thorn', 'thorough', 'those', 'though', 'though:', 'thought', 'thought_bubble_homer:', 'thought_bubble_lenny:', 'thoughtful', 'thoughtfully', 'thoughtless', 'thoughts', 'thousand', 'thousand-year', 'thousands', 'threatening', 'three', 'three-man', 'threw', 'thrilled', 'throat', 'throats', 'through', 'throw', 'throwing', 'thrown', 'throws', 'thru', 'thrust', 'thumb', 'thunder', 'tick', 'ticket', 'tickets', 'ticks', 'tidy', 'tie', 'tied', 'tiger', 'tigers', 'tight', 'till', 'timbuk-tee', 'time', \"time's\", 'times', 'tin', 'tinkle', \"tinklin'\", 'tiny', 'tip', 'tips', 'tipsy', 'tire', 'tired', 'title', 'title:', 'to', 'toasting', 'tobacky', 'today', \"today's\", 'today/', 'toe', 'tofu', 'together', 'togetherness', 'toilet', 'tokens', 'told', 'toledo', 'tolerable', 'tolerance', 'tom', 'tomahto', 'tomato', 'tomatoes', 'tommy', 'tomorrow', \"tomorrow's\", 'toms', 'ton', 'tones', 'tongue', 'tonic', 'tonight', \"tonight's\", 'tons', 'tony', \"tony's\", 'too', 'took', \"toot's\", 'tooth', \"tootin'\", 'top', 'torn', 'tornado', 'toss', 'total', 'totalitarians', 'totally', 'touch', 'touchdown', 'touched', 'touches', 'tough', 'tourist', 'tow', 'tow-joes', 'tow-talitarian', 'toward', 'towed', 'town', \"town's\", 'toxins', 'toy', 'toys', 'tracks', 'trade', 'tradition', 'traditions', 'traffic', 'tragedy', 'trail', 'train', 'trainers', 'training', 'traitor', 'traitors', \"tramp's\", 'transfer', 'transmission', 'transylvania', 'trapped', 'trapping', 'trash', 'trashed', 'travel', 'treasure', 'treat', \"treatin'\", 'treats', 'tree', \"tree's\", 'tree_hoper:', 'treehouse', 'trees', 'tremendous', 'trench', 'trenchant', 'triangle', 'tribute', 'trick', 'tried', 'tries', 'trip', 'triple-sec', 'triumphantly', 'trivia', 'troll', 'trolls', 'tropical', 'trouble', 'troubles', 'troy', 'troy:', 'troy_mcclure:', 'truck', 'truck_driver:', 'trucks', 'true', 'trunk', 'trust', 'trusted', 'trustworthy', 'truth', 'try', \"tryin'\", 'trying', 'tsk', 'tsking', 'tubman', 'tuborg', 'tummies', 'tuna', 'tune', 'turkey', 'turlet', 'turn', 'turned', 'turning', 'turns', 'tv', \"tv'll\", \"tv's\", 'tv-station_announcer:', 'tv_announcer:', 'tv_daughter:', 'tv_father:', 'tv_husband:', 'tv_wife:', 'twelve', 'twelve-step', 'twelveball', 'twentieth', 'twenty', 'twenty-five', 'twenty-four', 'twenty-nine', 'twenty-six', 'twenty-two', 'twerpy', 'twice', 'twin', 'twins', 'two', 'two-drink', 'two-thirds-empty', 'tying', 'type', 'typed', 'typing', 'tyson/secretariat', 'u', 'u2:', 'ugh', 'uglier', 'ugliest', 'ugliness', 'ugly', 'uh', 'uh-huh', 'uh-oh', 'uhhhh', 'ultimate', 'um', 'umm', 'ummmmmmmmm', 'un-sults', 'unable', 'unattended', 'unattractive', 'unavailable', 'unbelievable', 'unbelievably', 'uncle', 'uncomfortable', 'uncreeped-out', 'undated', 'under', 'underbridge', 'undermine', 'underpants', 'understand', 'understanding', 'understood', 'understood:', 'underwear', 'undies', 'unearth', 'uneasy', 'unexplained', 'unfair', 'unfamiliar', 'unforgettable', 'unfortunately', 'unfresh', 'ungrateful', 'unhappy', 'unhook', 'uniforms', 'uninhibited', 'unintelligent', 'unison', 'united', 'universe', 'unjustly', 'unkempt', 'unless', 'unlike', 'unlocked', 'unlucky', 'unrelated', 'unsafe', 'unsanitary', 'unsourced', 'until', 'unusual', 'unusually', 'up', 'up-bup-bup', 'upbeat', 'updated', 'upgrade', 'upn', 'upon', 'upset', 'upsetting', 'ura', 'urban', 'urge', 'urinal', 'urine', 'us', 'use', 'used', 'uses', \"usin'\", 'using', 'usual', 'usually', 'utensils', 'utility', 'vacation', 'vacations', 'vacuum', \"valentine's\", 'valley', 'valuable', 'value', 'vampire', 'vampires', 'van', 'vance', 'vanities', 'various', 'vegas', 'vehicle', 'vengeance', 'vengeful', 'venom', 'ventriloquism', 'venture', 'verdict', 'vermont', 'versus', 'verticality', 'very', 'vestigial', 'veteran', 'veux', 'vicious', 'victim', 'victorious', 'victory', 'video', 'videotaped', 'view', 'vigilante', 'village', 'villanova', 'vin', 'vincent', 'violations', 'violin', 'virile', 'virility', 'virtual', 'visas', 'viva', 'vodka', 'voice', 'voice:', 'voice_on_transmitter:', 'voicemail', 'volunteer', 'vomit', 'voodoo', 'vote', 'voted', 'voters', 'voyager', 'vulgar', 'vulnerable', 'w', 'w-a-3-q-i-zed', 'wa', 'wacky', 'wad', 'wade_boggs:', 'wage', 'wagering', 'waist', 'wait', \"wait'll\", \"waitin'\", 'waitress', 'wake', 'wakede', 'waking-up', 'walk', 'walked', 'walking', 'walks', 'wall', 'wallet', \"wallet's\", 'wally', 'wally:', 'walther', 'walther_hotenhoffer:', 'waltz', 'wang', 'wangs', 'wanna', 'want', 'wantcha', 'wanted', 'wants', 'war', 'warily', 'warm_female_voice:', 'warmly', 'warmth', 'warn', 'warned', 'warning', 'warranty', 'warren', 'wars', 'was', 'wash', 'washed', 'washer', \"washin'\", 'washouts', \"wasn't\", 'waste', 'wasted', 'wasting', 'watashi', 'watch', 'watched', \"watchin'\", 'watching', 'water', 'watered', 'watered-down', 'waterfront', 'waters', 'watt', 'wave', 'way', 'way:', 'waylon', 'waylon_smithers:', 'wayne', 'wayne:', 'ways', 'wazoo', 'we', \"we'd\", \"we'll\", \"we're\", \"we've\", 'we-we-we', 'weak', 'wealthy', 'weapon', 'wear', \"wearin'\", 'wearing', 'wears', 'weary', 'weather', 'website', 'wedding', 'wednesday', 'week', 'weekend', 'weekly', 'weeks', 'weep', 'weight', 'weird', 'weirded-out', 'weirder', 'welcome', 'well', 'well-wisher', 'wells', 'wenceslas', 'went', 'were', \"weren't\", 'west', 'western', 'wh', 'wha', 'whaaa', 'whaaaa', 'whaddaya', 'whaddya', 'whale', 'wham', 'what', \"what'd\", \"what'll\", \"what're\", \"what's\", \"what'sa\", 'what-for', 'whatcha', 'whatchacallit', 'whatchamacallit', 'whatever', 'whatsit', 'whee', 'wheeeee', 'wheel', 'wheels', 'when', \"when's\", 'when-i-get-a-hold-of-you', 'whenever', 'where', \"where'd\", \"where's\", 'whether', 'which', 'while', 'whim', 'whining', 'whiny', 'whip', 'whirlybird', 'whisper', 'whispered', 'whispers', 'whistles', 'whistling', 'white', 'white_rabbit:', 'who', \"who'da\", \"who'll\", \"who's\", 'who-o-oa', 'whoa', 'whoa-ho', 'whoever', 'whole', 'wholeheartedly', 'whoo', 'whoopi', 'whoops', 'whose', 'whup', 'why', 'wide', 'widow', 'wiener', 'wieners', 'wienerschnitzel', 'wife', \"wife's\", 'wife-swapping', 'wiggle', 'wiggle-frowns', 'wiggum', 'wigs', 'wikipedia', 'wild', 'wildest', 'wildfever', 'will', 'william', 'williams', 'willing', 'willy', 'win', 'winces', 'winch', 'wind', 'winded', 'windelle', 'windex', 'window', 'windowshade', 'windshield', 'wine', 'wing', 'wings', 'winks', 'winner', 'winning', 'winnings', \"wino's\", 'wins', 'winston', 'wipe', 'wipes', 'wiping', 'wire', 'wisconsin', 'wise', 'wish', 'wish-meat', 'wishes', 'wishful', 'wishing', 'wistful', 'witches', 'with', 'without', 'without:', 'wittgenstein', 'witty', 'wizard', 'wobble', 'wobbly', 'woe:', 'wok', 'wolfcastle', 'wolfe', 'wolverines', 'wolveriskey', 'woman', 'woman:', 'woman_bystander:', 'womb', 'women', 'won', \"won't\", 'wonder', 'wondered', 'wonderful', \"wonderin'\", 'wondering', 'woo', 'woo-hoo', 'wood', 'woodchucks', 'wooden', 'wooooo', 'woooooo', 'woozy', 'word', 'wordloaf', 'words', 'wore', 'work', 'worked', 'workers', \"workin'\", 'working', 'works', 'world', \"world's\", 'world-class', 'worldly', 'worldview', 'worried', 'worry', 'worse', 'worst', 'worth', 'worthless', 'would', 'woulda', \"wouldn't\", \"wouldn't-a\", 'wound', 'wounds', 'wow', 'wowww', 'wrap', 'wrapped', 'wraps', 'wreck', 'wrecking', 'wrestle', 'wrestling', 'write', 'writer:', 'writers', \"writin'\", 'writing', 'written', 'wrong', 'wrote', 'wudgy', 'wuss', 'wussy', 'x', 'x-men', 'xanders', 'xx', 'y', \"y'know\", \"y'money's\", \"y'see\", 'y-you', 'ya', \"ya'\", 'yak', 'yammering', 'yap', 'yard', 'yards', 'yawns', 'ye', 'yea', 'yeah', 'year', \"year's\", 'years', 'yee-ha', 'yee-haw', 'yell', 'yelling', 'yello', 'yellow', 'yellow-belly', 'yells', 'yelp', 'yep', 'yes', 'yesterday', \"yesterday's\", 'yet', 'yew', \"yieldin'\", 'yo', 'yogurt', 'yoink', 'yoo', 'you', \"you'd\", \"you'll\", \"you're\", \"you've\", 'you-need-man', 'young', 'young_barfly:', 'young_homer:', 'young_marge:', 'young_moe:', 'youngsters', 'your', 'yours', 'yourse', 'yourself', 'yourselves', 'youse', 'youth', 'youuu', 'yuh-huh', 'yup', 'zack', 'ze-ro', 'zeal', 'zero', 'ziff', 'ziffcorp', 'zinged', 'zone', 'zoomed', '||comma||', '||dash||', '||exclamationmark||', '||leftparentheses||', '||period||', '||questionmark||', '||quotationmark||', '||return||', '||rightparentheses||', '||semicolon||', 'à']\n"
     ]
    }
   ],
   "source": [
    "\"\"\"\n",
    "DON'T MODIFY ANYTHING IN THIS CELL\n",
    "\"\"\"\n",
    "# Preprocess Training, Validation, and Testing Data\n",
    "helper.preprocess_and_save_data(data_dir, token_lookup, create_lookup_tables)"
   ]
  },
  {
   "cell_type": "markdown",
   "metadata": {},
   "source": [
    "# Check Point\n",
    "This is your first checkpoint. If you ever decide to come back to this notebook or have to restart the notebook, you can start from here. The preprocessed data has been saved to disk."
   ]
  },
  {
   "cell_type": "code",
   "execution_count": 6,
   "metadata": {},
   "outputs": [],
   "source": [
    "\"\"\"\n",
    "DON'T MODIFY ANYTHING IN THIS CELL\n",
    "\"\"\"\n",
    "import helper\n",
    "import numpy as np\n",
    "import problem_unittests as tests\n",
    "\n",
    "int_text, vocab_to_int, int_to_vocab, token_dict = helper.load_preprocess()"
   ]
  },
  {
   "cell_type": "markdown",
   "metadata": {},
   "source": [
    "## Build the Neural Network\n",
    "You'll build the components necessary to build a RNN by implementing the following functions below:\n",
    "- get_inputs\n",
    "- get_init_cell\n",
    "- get_embed\n",
    "- build_rnn\n",
    "- build_nn\n",
    "- get_batches\n",
    "\n",
    "### Check the Version of TensorFlow and Access to GPU"
   ]
  },
  {
   "cell_type": "code",
   "execution_count": 7,
   "metadata": {},
   "outputs": [
    {
     "name": "stdout",
     "output_type": "stream",
     "text": [
      "TensorFlow Version: 1.3.0\n",
      "Default GPU Device: /gpu:0\n"
     ]
    }
   ],
   "source": [
    "\"\"\"\n",
    "DON'T MODIFY ANYTHING IN THIS CELL\n",
    "\"\"\"\n",
    "from distutils.version import LooseVersion\n",
    "import warnings\n",
    "import tensorflow as tf\n",
    "\n",
    "# Check TensorFlow Version\n",
    "assert LooseVersion(tf.__version__) >= LooseVersion('1.3'), 'Please use TensorFlow version 1.3 or newer'\n",
    "print('TensorFlow Version: {}'.format(tf.__version__))\n",
    "\n",
    "# Check for a GPU\n",
    "if not tf.test.gpu_device_name():\n",
    "    warnings.warn('No GPU found. Please use a GPU to train your neural network.')\n",
    "else:\n",
    "    print('Default GPU Device: {}'.format(tf.test.gpu_device_name()))"
   ]
  },
  {
   "cell_type": "markdown",
   "metadata": {},
   "source": [
    "### Input\n",
    "Implement the `get_inputs()` function to create TF Placeholders for the Neural Network.  It should create the following placeholders:\n",
    "- Input text placeholder named \"input\" using the [TF Placeholder](https://www.tensorflow.org/api_docs/python/tf/placeholder) `name` parameter.\n",
    "- Targets placeholder\n",
    "- Learning Rate placeholder\n",
    "\n",
    "Return the placeholders in the following tuple `(Input, Targets, LearningRate)`"
   ]
  },
  {
   "cell_type": "code",
   "execution_count": 8,
   "metadata": {},
   "outputs": [
    {
     "name": "stdout",
     "output_type": "stream",
     "text": [
      "Tests Passed\n"
     ]
    }
   ],
   "source": [
    "def get_inputs():\n",
    "    \"\"\"\n",
    "    Create TF Placeholders for input, targets, and learning rate.\n",
    "    :return: Tuple (input, targets, learning rate)\n",
    "    \"\"\"\n",
    "    # TODO: Implement Function\n",
    "    Input = tf.placeholder(tf.int32, shape=(None,None), name=\"input\")\n",
    "    Targets = tf.placeholder(tf.int32, shape=(None,None), name =\"targets\")\n",
    "    LearningRate = tf.placeholder(tf.float32, name=\"learning_rate\")\n",
    "    return (Input, Targets, LearningRate)\n",
    "\n",
    "\n",
    "\"\"\"\n",
    "DON'T MODIFY ANYTHING IN THIS CELL THAT IS BELOW THIS LINE\n",
    "\"\"\"\n",
    "tests.test_get_inputs(get_inputs)"
   ]
  },
  {
   "cell_type": "markdown",
   "metadata": {},
   "source": [
    "### Build RNN Cell and Initialize\n",
    "Stack one or more [`BasicLSTMCells`](https://www.tensorflow.org/api_docs/python/tf/contrib/rnn/BasicLSTMCell) in a [`MultiRNNCell`](https://www.tensorflow.org/api_docs/python/tf/contrib/rnn/MultiRNNCell).\n",
    "- The Rnn size should be set using `rnn_size`\n",
    "- Initalize Cell State using the MultiRNNCell's [`zero_state()`](https://www.tensorflow.org/api_docs/python/tf/contrib/rnn/MultiRNNCell#zero_state) function\n",
    "    - Apply the name \"initial_state\" to the initial state using [`tf.identity()`](https://www.tensorflow.org/api_docs/python/tf/identity)\n",
    "\n",
    "Return the cell and initial state in the following tuple `(Cell, InitialState)`"
   ]
  },
  {
   "cell_type": "code",
   "execution_count": 9,
   "metadata": {},
   "outputs": [
    {
     "name": "stdout",
     "output_type": "stream",
     "text": [
      "Tests Passed\n"
     ]
    }
   ],
   "source": [
    "def get_init_cell(batch_size, rnn_size):\n",
    "    \"\"\"\n",
    "    Create an RNN Cell and initialize it.\n",
    "    :param batch_size: Size of batches\n",
    "    :param rnn_size: Size of RNNs\n",
    "    :return: Tuple (cell, initialize state)\n",
    "    \"\"\"\n",
    "    # TODO: Implement Function\n",
    "    def build_cell(rnn_size):\n",
    "        lstm = tf.contrib.rnn.BasicLSTMCell(rnn_size)\n",
    "        drop = tf.contrib.rnn.DropoutWrapper(lstm, output_keep_prob=0.5)\n",
    "        return drop\n",
    "    #stack the multiple LSTM layers\n",
    "    Cell = tf.contrib.rnn.MultiRNNCell([build_cell(rnn_size)for _ in range(2)])\n",
    "    InitialState = Cell.zero_state(batch_size, tf.float32)\n",
    "    InitialState = tf.identity(InitialState, name=\"initial_state\")\n",
    "    return Cell, InitialState\n",
    "\n",
    "\n",
    "\"\"\"\n",
    "DON'T MODIFY ANYTHING IN THIS CELL THAT IS BELOW THIS LINE\n",
    "\"\"\"\n",
    "tests.test_get_init_cell(get_init_cell)"
   ]
  },
  {
   "cell_type": "markdown",
   "metadata": {},
   "source": [
    "### Word Embedding\n",
    "Apply embedding to `input_data` using TensorFlow.  Return the embedded sequence."
   ]
  },
  {
   "cell_type": "code",
   "execution_count": 10,
   "metadata": {},
   "outputs": [
    {
     "name": "stdout",
     "output_type": "stream",
     "text": [
      "Tests Passed\n"
     ]
    }
   ],
   "source": [
    "def get_embed(input_data, vocab_size, embed_dim):\n",
    "    \"\"\"\n",
    "    Create embedding for <input_data>.\n",
    "    :param input_data: TF placeholder for text input.\n",
    "    :param vocab_size: Number of words in vocabulary.\n",
    "    :param embed_dim: Number of embedding dimensions\n",
    "    :return: Embedded input.\n",
    "    \"\"\"\n",
    "    # TODO: Implement Function\n",
    "    embedding = tf.Variable(tf.random_uniform([vocab_size, embed_dim], -1, 1))\n",
    "    embed = tf.nn.embedding_lookup(embedding, input_data)\n",
    "    return embed\n",
    "\n",
    "\n",
    "\"\"\"\n",
    "DON'T MODIFY ANYTHING IN THIS CELL THAT IS BELOW THIS LINE\n",
    "\"\"\"\n",
    "tests.test_get_embed(get_embed)"
   ]
  },
  {
   "cell_type": "markdown",
   "metadata": {},
   "source": [
    "### Build RNN\n",
    "You created a RNN Cell in the `get_init_cell()` function.  Time to use the cell to create a RNN.\n",
    "- Build the RNN using the [`tf.nn.dynamic_rnn()`](https://www.tensorflow.org/api_docs/python/tf/nn/dynamic_rnn)\n",
    " - Apply the name \"final_state\" to the final state using [`tf.identity()`](https://www.tensorflow.org/api_docs/python/tf/identity)\n",
    "\n",
    "Return the outputs and final_state state in the following tuple `(Outputs, FinalState)` "
   ]
  },
  {
   "cell_type": "code",
   "execution_count": 11,
   "metadata": {},
   "outputs": [
    {
     "name": "stdout",
     "output_type": "stream",
     "text": [
      "Tests Passed\n"
     ]
    }
   ],
   "source": [
    "def build_rnn(cell, inputs):\n",
    "    \"\"\"\n",
    "    Create a RNN using a RNN Cell\n",
    "    :param cell: RNN Cell\n",
    "    :param inputs: Input text data\n",
    "    :return: Tuple (Outputs, Final State)\n",
    "    \"\"\"\n",
    "    # TODO: Implement Function\n",
    "    Outputs, FinalState = tf.nn.dynamic_rnn(cell, inputs, dtype=tf.float32)\n",
    "    FinalState = tf.identity(FinalState, name = \"final_state\")\n",
    "    return Outputs, FinalState\n",
    "\n",
    "\n",
    "\"\"\"\n",
    "DON'T MODIFY ANYTHING IN THIS CELL THAT IS BELOW THIS LINE\n",
    "\"\"\"\n",
    "tests.test_build_rnn(build_rnn)"
   ]
  },
  {
   "cell_type": "markdown",
   "metadata": {},
   "source": [
    "### Build the Neural Network\n",
    "Apply the functions you implemented above to:\n",
    "- Apply embedding to `input_data` using your `get_embed(input_data, vocab_size, embed_dim)` function.\n",
    "- Build RNN using `cell` and your `build_rnn(cell, inputs)` function.\n",
    "- Apply a fully connected layer with a linear activation and `vocab_size` as the number of outputs.\n",
    "\n",
    "Return the logits and final state in the following tuple (Logits, FinalState) "
   ]
  },
  {
   "cell_type": "code",
   "execution_count": 70,
   "metadata": {},
   "outputs": [
    {
     "name": "stdout",
     "output_type": "stream",
     "text": [
      "logits (128, 5, 27)\n",
      "Tests Passed\n"
     ]
    }
   ],
   "source": [
    "def build_nn(cell, rnn_size, input_data, vocab_size, embed_dim):\n",
    "    \"\"\"\n",
    "    Build part of the neural network\n",
    "    :param cell: RNN cell\n",
    "    :param rnn_size: Size of rnns\n",
    "    :param input_data: Input data\n",
    "    :param vocab_size: Vocabulary size\n",
    "    :param embed_dim: Number of embedding dimensions\n",
    "    :return: Tuple (Logits, FinalState)\n",
    "    \"\"\"\n",
    "    # TODO: Implement Function\n",
    "    #embed your inputs - hot coding\n",
    "    embeded_input = get_embed(input_data, vocab_size, embed_dim)\n",
    "    \n",
    "    # get outputs to rnn cells to pass into final layer\n",
    "    cell_output, finalstate = build_rnn(cell, embeded_input)\n",
    "    \n",
    "    #initialize weights and biases\n",
    "    weights_init = tf.truncated_normal_initializer(stddev = 0.1)\n",
    "    bias_init = tf.zeros_initializer()\n",
    "    \n",
    "    # build fully connected final layer using output from rnn cells\n",
    "    logits = tf.contrib.layers.fully_connected(cell_output, vocab_size, activation_fn=None, \n",
    "                weights_initializer=weights_init, biases_initializer=bias_init)\n",
    "    print(\"logits\", logits.shape)\n",
    "    return logits, finalstate\n",
    "\n",
    "\n",
    "\"\"\"\n",
    "DON'T MODIFY ANYTHING IN THIS CELL THAT IS BELOW THIS LINE\n",
    "\"\"\"\n",
    "tests.test_build_nn(build_nn)"
   ]
  },
  {
   "cell_type": "code",
   "execution_count": 26,
   "metadata": {},
   "outputs": [],
   "source": [
    "#print(int_text)"
   ]
  },
  {
   "cell_type": "markdown",
   "metadata": {},
   "source": [
    "### Batches\n",
    "Implement `get_batches` to create batches of input and targets using `int_text`.  The batches should be a Numpy array with the shape `(number of batches, 2, batch size, sequence length)`. Each batch contains two elements:\n",
    "- The first element is a single batch of **input** with the shape `[batch size, sequence length]`\n",
    "- The second element is a single batch of **targets** with the shape `[batch size, sequence length]`\n",
    "\n",
    "If you can't fill the last batch with enough data, drop the last batch.\n",
    "\n",
    "For example, `get_batches([1, 2, 3, 4, 5, 6, 7, 8, 9, 10, 11, 12, 13, 14, 15, 16, 17, 18, 19, 20], 3, 2)` would return a Numpy array of the following:\n",
    "```\n",
    "[\n",
    "  # First Batch\n",
    "  [\n",
    "    # Batch of Input\n",
    "    [[ 1  2], [ 7  8], [13 14]]\n",
    "    # Batch of targets\n",
    "    [[ 2  3], [ 8  9], [14 15]]\n",
    "  ]\n",
    "\n",
    "  # Second Batch\n",
    "  [\n",
    "    # Batch of Input\n",
    "    [[ 3  4], [ 9 10], [15 16]]\n",
    "    # Batch of targets\n",
    "    [[ 4  5], [10 11], [16 17]]\n",
    "  ]\n",
    "\n",
    "  # Third Batch\n",
    "  [\n",
    "    # Batch of Input\n",
    "    [[ 5  6], [11 12], [17 18]]\n",
    "    # Batch of targets\n",
    "    [[ 6  7], [12 13], [18  1]]\n",
    "  ]\n",
    "]\n",
    "```\n",
    "\n",
    "Notice that the last target value in the last batch is the first input value of the first batch. In this case, `1`. This is a common technique used when creating sequence batches, although it is rather unintuitive."
   ]
  },
  {
   "cell_type": "code",
   "execution_count": 14,
   "metadata": {},
   "outputs": [
    {
     "name": "stdout",
     "output_type": "stream",
     "text": [
      "Tests Passed\n"
     ]
    }
   ],
   "source": [
    "\n",
    "def get_batches(int_text, batch_size, seq_length):\n",
    "    \"\"\"\n",
    "    Return batches of input and target\n",
    "    :param int_text: Text with the words replaced by their ids\n",
    "    :param batch_size: The size of batch\n",
    "    :param seq_length: The length of sequence\n",
    "    :return: Batches as a Numpy array\n",
    "    \"\"\"\n",
    "\n",
    "    # TODO: Implement Function\n",
    "   \n",
    "    #truncate data\n",
    "\n",
    "    text_per_batch = batch_size * seq_length\n",
    "    no_batches = len(int_text)//text_per_batch\n",
    "    batches = np.zeros((no_batches, 2, batch_size, seq_length),dtype=float)\n",
    "    new_int_text = int_text[:no_batches * text_per_batch]\n",
    "    new_int_text = np.array(new_int_text)\n",
    "    #new_int_text.reshape(no_batches,-1)\n",
    "\n",
    "\n",
    "    for batch_index in range(no_batches):\n",
    "        \n",
    "        input_data = np.array(int_text[:(no_batches*text_per_batch)])\n",
    "        output_data = np.array(int_text[1:(no_batches*text_per_batch)+1])\n",
    "        output_data[-1] = input_data[0]\n",
    "        one_batch = np.zeros((2, batch_size, seq_length), dtype=np.int32)\n",
    "        one_batch_input = np.zeros((batch_size,seq_length), dtype=np.int32)\n",
    "        one_batch_target = np.zeros((batch_size,seq_length), dtype=np.int32)\n",
    "        for i in range(batch_size): #gets into 128\n",
    "            \n",
    "            start = batch_index*seq_length +i * seq_length*no_batches\n",
    "            inputs = input_data[start:start+seq_length]\n",
    "            targets = output_data[start:start+seq_length]\n",
    "            one_batch_input[i]=inputs\n",
    "            one_batch_target[i]=targets\n",
    "\n",
    "        one_batch[0]=one_batch_input\n",
    "        one_batch[1]=one_batch_target\n",
    "        \n",
    "        batches[batch_index] = one_batch\n",
    "\n",
    "    return batches\n",
    "\n",
    "\n",
    "\n",
    "\"\"\"\n",
    "DON'T MODIFY ANYTHING IN THIS CELL THAT IS BELOW THIS LINE\n",
    "\"\"\"\n",
    "tests.test_get_batches(get_batches)"
   ]
  },
  {
   "cell_type": "markdown",
   "metadata": {},
   "source": [
    "## Neural Network Training\n",
    "### Hyperparameters\n",
    "Tune the following parameters:\n",
    "\n",
    "- Set `num_epochs` to the number of epochs.\n",
    "- Set `batch_size` to the batch size.\n",
    "- Set `rnn_size` to the size of the RNNs.\n",
    "- Set `embed_dim` to the size of the embedding.\n",
    "- Set `seq_length` to the length of sequence.\n",
    "- Set `learning_rate` to the learning rate.\n",
    "- Set `show_every_n_batches` to the number of batches the neural network should print progress."
   ]
  },
  {
   "cell_type": "code",
   "execution_count": 23,
   "metadata": {},
   "outputs": [],
   "source": [
    "# Number of Epochs\n",
    "num_epochs = 400\n",
    "# Batch Size\n",
    "batch_size = 256\n",
    "# RNN Size\n",
    "rnn_size = 256\n",
    "# Embedding Dimension Size\n",
    "embed_dim = 512\n",
    "# Sequence Length\n",
    "seq_length = 16\n",
    "# Learning Rate\n",
    "learning_rate = 0.001\n",
    "# Show stats for every n number of batches\n",
    "show_every_n_batches = 200\n",
    "\n",
    "\"\"\"\n",
    "DON'T MODIFY ANYTHING IN THIS CELL THAT IS BELOW THIS LINE\n",
    "\"\"\"\n",
    "save_dir = './save'"
   ]
  },
  {
   "cell_type": "markdown",
   "metadata": {},
   "source": [
    "### Build the Graph\n",
    "Build the graph using the neural network you implemented."
   ]
  },
  {
   "cell_type": "code",
   "execution_count": 24,
   "metadata": {},
   "outputs": [],
   "source": [
    "\"\"\"\n",
    "DON'T MODIFY ANYTHING IN THIS CELL\n",
    "\"\"\"\n",
    "from tensorflow.contrib import seq2seq\n",
    "\n",
    "train_graph = tf.Graph()\n",
    "with train_graph.as_default():\n",
    "    vocab_size = len(int_to_vocab)\n",
    "    input_text, targets, lr = get_inputs()\n",
    "    input_data_shape = tf.shape(input_text)\n",
    "    cell, initial_state = get_init_cell(input_data_shape[0], rnn_size)\n",
    "    logits, final_state = build_nn(cell, rnn_size, input_text, vocab_size, embed_dim)\n",
    "\n",
    "    # Probabilities for generating words\n",
    "    probs = tf.nn.softmax(logits, name='probs')\n",
    "\n",
    "    # Loss function\n",
    "    cost = seq2seq.sequence_loss(\n",
    "        logits,\n",
    "        targets,\n",
    "        tf.ones([input_data_shape[0], input_data_shape[1]]))\n",
    "\n",
    "    # Optimizer\n",
    "    optimizer = tf.train.AdamOptimizer(lr)\n",
    "\n",
    "    # Gradient Clipping\n",
    "    gradients = optimizer.compute_gradients(cost)\n",
    "    capped_gradients = [(tf.clip_by_value(grad, -1., 1.), var) for grad, var in gradients if grad is not None]\n",
    "    train_op = optimizer.apply_gradients(capped_gradients)"
   ]
  },
  {
   "cell_type": "markdown",
   "metadata": {},
   "source": [
    "## Train\n",
    "Train the neural network on the preprocessed data.  If you have a hard time getting a good loss, check the [forums](https://discussions.udacity.com/) to see if anyone is having the same problem."
   ]
  },
  {
   "cell_type": "code",
   "execution_count": 25,
   "metadata": {},
   "outputs": [
    {
     "name": "stdout",
     "output_type": "stream",
     "text": [
      "Epoch   0 Batch    0/16   train_loss = 8.832\n",
      "Epoch  12 Batch    8/16   train_loss = 4.838\n",
      "Epoch  25 Batch    0/16   train_loss = 4.294\n",
      "Epoch  37 Batch    8/16   train_loss = 3.888\n",
      "Epoch  50 Batch    0/16   train_loss = 3.500\n",
      "Epoch  62 Batch    8/16   train_loss = 3.271\n",
      "Epoch  75 Batch    0/16   train_loss = 2.943\n",
      "Epoch  87 Batch    8/16   train_loss = 2.668\n",
      "Epoch 100 Batch    0/16   train_loss = 2.515\n",
      "Epoch 112 Batch    8/16   train_loss = 2.324\n",
      "Epoch 125 Batch    0/16   train_loss = 2.109\n",
      "Epoch 137 Batch    8/16   train_loss = 2.020\n",
      "Epoch 150 Batch    0/16   train_loss = 1.850\n",
      "Epoch 162 Batch    8/16   train_loss = 1.718\n",
      "Epoch 175 Batch    0/16   train_loss = 1.613\n",
      "Epoch 187 Batch    8/16   train_loss = 1.531\n",
      "Epoch 200 Batch    0/16   train_loss = 1.517\n",
      "Epoch 212 Batch    8/16   train_loss = 1.344\n",
      "Epoch 225 Batch    0/16   train_loss = 1.305\n",
      "Epoch 237 Batch    8/16   train_loss = 1.226\n",
      "Epoch 250 Batch    0/16   train_loss = 1.155\n",
      "Epoch 262 Batch    8/16   train_loss = 1.145\n",
      "Epoch 275 Batch    0/16   train_loss = 1.045\n",
      "Epoch 287 Batch    8/16   train_loss = 1.038\n",
      "Epoch 300 Batch    0/16   train_loss = 1.004\n",
      "Epoch 312 Batch    8/16   train_loss = 0.925\n",
      "Epoch 325 Batch    0/16   train_loss = 0.890\n",
      "Epoch 337 Batch    8/16   train_loss = 0.845\n",
      "Epoch 350 Batch    0/16   train_loss = 0.834\n",
      "Epoch 362 Batch    8/16   train_loss = 0.795\n",
      "Epoch 375 Batch    0/16   train_loss = 0.769\n",
      "Epoch 387 Batch    8/16   train_loss = 0.755\n",
      "Model Trained and Saved\n"
     ]
    }
   ],
   "source": [
    "\"\"\"\n",
    "DON'T MODIFY ANYTHING IN THIS CELL\n",
    "\"\"\"\n",
    "batches = get_batches(int_text, batch_size, seq_length)\n",
    "\n",
    "with tf.Session(graph=train_graph) as sess:\n",
    "    sess.run(tf.global_variables_initializer())\n",
    "\n",
    "    for epoch_i in range(num_epochs):\n",
    "        state = sess.run(initial_state, {input_text: batches[0][0]})\n",
    "\n",
    "        for batch_i, (x, y) in enumerate(batches):\n",
    "            feed = {\n",
    "                input_text: x,\n",
    "                targets: y,\n",
    "                initial_state: state,\n",
    "                lr: learning_rate}\n",
    "            train_loss, state, _ = sess.run([cost, final_state, train_op], feed)\n",
    "\n",
    "            # Show every <show_every_n_batches> batches\n",
    "            if (epoch_i * len(batches) + batch_i) % show_every_n_batches == 0:\n",
    "                print('Epoch {:>3} Batch {:>4}/{}   train_loss = {:.3f}'.format(\n",
    "                    epoch_i,\n",
    "                    batch_i,\n",
    "                    len(batches),\n",
    "                    train_loss))\n",
    "\n",
    "    # Save Model\n",
    "    saver = tf.train.Saver()\n",
    "    saver.save(sess, save_dir)\n",
    "    print('Model Trained and Saved')"
   ]
  },
  {
   "cell_type": "markdown",
   "metadata": {},
   "source": [
    "## Save Parameters\n",
    "Save `seq_length` and `save_dir` for generating a new TV script."
   ]
  },
  {
   "cell_type": "code",
   "execution_count": 27,
   "metadata": {},
   "outputs": [],
   "source": [
    "\"\"\"\n",
    "DON'T MODIFY ANYTHING IN THIS CELL\n",
    "\"\"\"\n",
    "# Save parameters for checkpoint\n",
    "helper.save_params((seq_length, save_dir))"
   ]
  },
  {
   "cell_type": "markdown",
   "metadata": {},
   "source": [
    "# Checkpoint"
   ]
  },
  {
   "cell_type": "code",
   "execution_count": 28,
   "metadata": {},
   "outputs": [],
   "source": [
    "\"\"\"\n",
    "DON'T MODIFY ANYTHING IN THIS CELL\n",
    "\"\"\"\n",
    "import tensorflow as tf\n",
    "import numpy as np\n",
    "import helper\n",
    "import problem_unittests as tests\n",
    "\n",
    "_, vocab_to_int, int_to_vocab, token_dict = helper.load_preprocess()\n",
    "seq_length, load_dir = helper.load_params()"
   ]
  },
  {
   "cell_type": "markdown",
   "metadata": {},
   "source": [
    "## Implement Generate Functions\n",
    "### Get Tensors\n",
    "Get tensors from `loaded_graph` using the function [`get_tensor_by_name()`](https://www.tensorflow.org/api_docs/python/tf/Graph#get_tensor_by_name).  Get the tensors using the following names:\n",
    "- \"input:0\"\n",
    "- \"initial_state:0\"\n",
    "- \"final_state:0\"\n",
    "- \"probs:0\"\n",
    "\n",
    "Return the tensors in the following tuple `(InputTensor, InitialStateTensor, FinalStateTensor, ProbsTensor)` "
   ]
  },
  {
   "cell_type": "code",
   "execution_count": 29,
   "metadata": {},
   "outputs": [
    {
     "name": "stdout",
     "output_type": "stream",
     "text": [
      "Tests Passed\n"
     ]
    }
   ],
   "source": [
    "def get_tensors(loaded_graph):\n",
    "    \"\"\"\n",
    "    Get input, initial state, final state, and probabilities tensor from <loaded_graph>\n",
    "    :param loaded_graph: TensorFlow graph loaded from file\n",
    "    :return: Tuple (InputTensor, InitialStateTensor, FinalStateTensor, ProbsTensor)\n",
    "    \"\"\"\n",
    "    # TODO: Implement Function\n",
    "    \n",
    "    InputTensor = loaded_graph.get_tensor_by_name(\"input:0\")\n",
    "    InitialStateTensor = loaded_graph.get_tensor_by_name(\"initial_state:0\")\n",
    "    FinalStateTensor = loaded_graph.get_tensor_by_name(\"final_state:0\")\n",
    "    ProbsTensor = loaded_graph.get_tensor_by_name(\"probs:0\")\n",
    "    return InputTensor, InitialStateTensor, FinalStateTensor, ProbsTensor\n",
    "\n",
    "\n",
    "\"\"\"\n",
    "DON'T MODIFY ANYTHING IN THIS CELL THAT IS BELOW THIS LINE\n",
    "\"\"\"\n",
    "tests.test_get_tensors(get_tensors)"
   ]
  },
  {
   "cell_type": "markdown",
   "metadata": {},
   "source": [
    "### Choose Word\n",
    "Implement the `pick_word()` function to select the next word using `probabilities`."
   ]
  },
  {
   "cell_type": "code",
   "execution_count": 68,
   "metadata": {},
   "outputs": [
    {
     "name": "stdout",
     "output_type": "stream",
     "text": [
      "Tests Passed\n"
     ]
    }
   ],
   "source": [
    "def pick_word(probabilities, int_to_vocab):\n",
    "    \"\"\"\n",
    "    Pick the next word in the generated text\n",
    "    :param probabilities: Probabilites of the next word\n",
    "    :param int_to_vocab: Dictionary of word ids as the keys and words as the values\n",
    "    :return: String of the predicted word\n",
    "    \"\"\"\n",
    "    # TODO: Implement Function\n",
    "    \n",
    "    x = np.random.choice(len(probabilities), 30, p=probabilities)\n",
    "    #print(\"probs\", len(probabilities))\n",
    "    return int_to_vocab[x[0]]\n",
    "   \n",
    "\n",
    "\n",
    "\"\"\"\n",
    "DON'T MODIFY ANYTHING IN THIS CELL THAT IS BELOW THIS LINE\n",
    "\"\"\"\n",
    "tests.test_pick_word(pick_word)"
   ]
  },
  {
   "cell_type": "markdown",
   "metadata": {},
   "source": [
    "## Generate TV Script\n",
    "This will generate the TV script for you.  Set `gen_length` to the length of TV script you want to generate."
   ]
  },
  {
   "cell_type": "code",
   "execution_count": 80,
   "metadata": {},
   "outputs": [
    {
     "name": "stdout",
     "output_type": "stream",
     "text": [
      "INFO:tensorflow:Restoring parameters from ./save\n",
      "barney_gumble: hey! you're sacrilicious. barney surgery? thank ya, edna will me you? the best big general of stock!\n",
      "hans: you're out! and! really friend our goes years with three of my house.\n",
      "barney_gumble: no, i guy do it again.\n",
      "homer_simpson: i say that was hunting. there's no beady i-i where it, i gotta wing the sing for an hair--(almost) ah, this tavern was it... while.\n",
      "lenny_leonard: hm. that's hope, moe. the problem the one of not left for our busy, sold at the last now.\n",
      "bret: what love?\n",
      "homer_simpson:(walking chuckle) that where's my money?\n",
      "grampa_simpson:(back) i'll survive the old barney in-- it is the bow!\n",
      "moe_szyslak: now, not?....\n",
      "marge_simpson: oh, i don't want that to think there i thought that was those ice with this, gin, but.\n",
      "moe_szyslak: why, i'm looking on costume there's change our chair!\n",
      "dr. _kissingher: all\n"
     ]
    }
   ],
   "source": [
    "gen_length = 200\n",
    "# homer_simpson, moe_szyslak, or Barney_Gumble\n",
    "#prime_word = 'moe_szyslak'\n",
    "prime_word = 'barney_gumble'\n",
    "\n",
    "\"\"\"\n",
    "DON'T MODIFY ANYTHING IN THIS CELL THAT IS BELOW THIS LINE\n",
    "\"\"\"\n",
    "loaded_graph = tf.Graph()\n",
    "with tf.Session(graph=loaded_graph) as sess:\n",
    "    # Load saved model\n",
    "    loader = tf.train.import_meta_graph(load_dir + '.meta')\n",
    "    loader.restore(sess, load_dir)\n",
    "\n",
    "    # Get Tensors from loaded model\n",
    "    input_text, initial_state, final_state, probs = get_tensors(loaded_graph)\n",
    "\n",
    "    # Sentences generation setup\n",
    "    gen_sentences = [prime_word + ':']\n",
    "    prev_state = sess.run(initial_state, {input_text: np.array([[1]])})\n",
    "\n",
    "    # Generate sentences\n",
    "    for n in range(gen_length):\n",
    "        # Dynamic Input\n",
    "        dyn_input = [[vocab_to_int[word] for word in gen_sentences[-seq_length:]]]\n",
    "        #print(\"word\", [vocab_to_int[word] for word in gen_sentences[-seq_length:]])\n",
    "        dyn_seq_length = len(dyn_input[0])\n",
    "\n",
    "        # Get Prediction\n",
    "        probabilities, prev_state = sess.run(\n",
    "            [probs, final_state],\n",
    "            {input_text: dyn_input, initial_state: prev_state})\n",
    "        \n",
    "        pred_word = pick_word(probabilities[0][dyn_seq_length-1], int_to_vocab)\n",
    "        #print(probabilities[0][dyn_seq_length-1])\n",
    "        gen_sentences.append(pred_word)\n",
    "    \n",
    "    #print(\"sentence\", gen_sentences, len(gen_sentences))\n",
    "    # Remove tokens\n",
    "    tv_script = ' '.join(gen_sentences)\n",
    "   \n",
    "    for key, token in token_dict.items():\n",
    "        ending = ' ' if key in ['\\n', '(', '\"'] else ''\n",
    "        tv_script = tv_script.replace(' ' + token.lower(), key)\n",
    "    tv_script = tv_script.replace('\\n ', '\\n')\n",
    "    tv_script = tv_script.replace('( ', '(')\n",
    "        \n",
    "    print(tv_script)"
   ]
  },
  {
   "cell_type": "markdown",
   "metadata": {},
   "source": [
    "# The TV Script is Nonsensical\n",
    "It's ok if the TV script doesn't make any sense.  We trained on less than a megabyte of text.  In order to get good results, you'll have to use a smaller vocabulary or get more data.  Luckily there's more data!  As we mentioned in the beggining of this project, this is a subset of [another dataset](https://www.kaggle.com/wcukierski/the-simpsons-by-the-data).  We didn't have you train on all the data, because that would take too long.  However, you are free to train your neural network on all the data.  After you complete the project, of course.\n",
    "# Submitting This Project\n",
    "When submitting this project, make sure to run all the cells before saving the notebook. Save the notebook file as \"dlnd_tv_script_generation.ipynb\" and save it as a HTML file under \"File\" -> \"Download as\". Include the \"helper.py\" and \"problem_unittests.py\" files in your submission."
   ]
  }
 ],
 "metadata": {
  "kernelspec": {
   "display_name": "Python 3",
   "language": "python",
   "name": "python3"
  },
  "language_info": {
   "codemirror_mode": {
    "name": "ipython",
    "version": 3
   },
   "file_extension": ".py",
   "mimetype": "text/x-python",
   "name": "python",
   "nbconvert_exporter": "python",
   "pygments_lexer": "ipython3",
   "version": "3.6.3"
  },
  "widgets": {
   "state": {},
   "version": "1.1.2"
  }
 },
 "nbformat": 4,
 "nbformat_minor": 1
}
